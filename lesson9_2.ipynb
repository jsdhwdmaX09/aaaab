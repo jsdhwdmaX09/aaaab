{
 "cells": [
  {
   "cell_type": "code",
   "execution_count": 1,
   "metadata": {},
   "outputs": [],
   "source": [
    "file = open(\"names.txt\",encoding=\"utf_8\")\n",
    "file.close()"
   ]
  },
  {
   "cell_type": "code",
   "execution_count": 2,
   "metadata": {},
   "outputs": [],
   "source": [
    "with open(\"names.txt\",encoding=\"utf_8\") as file:\n",
    "    pass"
   ]
  },
  {
   "cell_type": "code",
   "execution_count": 3,
   "metadata": {},
   "outputs": [
    {
     "name": "stdout",
     "output_type": "stream",
     "text": [
      "陳怡伶\n",
      "馮芳如\n",
      "蒙淑惠\n",
      "張軒宸\n",
      "陳向愛\n",
      "賴心怡\n",
      "王怡珊\n",
      "林詠斌\n",
      "陳淑娟\n",
      "崔孝憲\n",
      "林希啟\n",
      "楊韋廷\n",
      "陳文賢\n",
      "王士銘\n",
      "賴昌韻\n",
      "黃名明\n",
      "吳麗卿\n",
      "游治旺\n",
      "蔡嘉音\n",
      "黃靜怡\n",
      "黃淑芬\n",
      "龔姵君\n",
      "景歡燦\n",
      "李政成\n",
      "楊綺芬\n",
      "昌嘉洋\n",
      "李慈啟\n",
      "游倫城\n",
      "林淑安\n",
      "蔡士賢\n",
      "林世城\n",
      "林佳蓉\n",
      "柯宜臻\n",
      "傅佳琳\n",
      "林瑞喬\n",
      "林佳慧\n",
      "鍾俞禎\n",
      "劉慧君\n",
      "劉林中\n",
      "林怡偉\n",
      "余丞苓\n",
      "黃佩玲\n",
      "林建宏\n",
      "方雅慧\n",
      "林柏洋\n",
      "郭舜昇\n",
      "艾巧夫\n",
      "童建霖\n",
      "蔡至剛\n",
      "黃心航\n",
      "張凡成\n",
      "郭淑枝\n",
      "黃必琪\n",
      "楊健麟\n",
      "林建勳\n",
      "鄭琇亞\n",
      "王雅琴\n",
      "李美洋\n",
      "楊少亮\n",
      "王泓泰\n",
      "黃江旭\n",
      "王梅劭\n",
      "林佳光\n",
      "盧必妍\n",
      "林思賢\n",
      "鄧哲榮\n",
      "陳家年\n",
      "張俊傑\n",
      "洪阿惠\n",
      "陳彥治\n",
      "盧冠發\n",
      "程玫靖\n",
      "潘俊賢\n",
      "呂傑宣\n",
      "鄭孟芳\n",
      "彭茹靖\n",
      "王孝純\n",
      "吳昕婷\n",
      "朱惠儀\n",
      "盧文啟\n",
      "謝佳穎\n",
      "鄭憲定\n",
      "馮淑芬\n",
      "聶心怡\n",
      "黃志福\n",
      "馬彥文\n",
      "郭淑真\n",
      "吳欣書\n",
      "鄭佳玲\n",
      "黃健發\n",
      "胡姿婷\n",
      "林義皓\n",
      "胡芳瑜\n",
      "楊易政\n",
      "王德城\n",
      "劉依婷\n",
      "吳俐芷\n",
      "黃詩妃\n",
      "柯韋成\n",
      "鄧亭聿\n",
      "王雅慧\n",
      "陳凱翔\n",
      "藍哲嘉\n",
      "趙偉銘\n",
      "張韋成\n",
      "林向鈺\n",
      "周琬婷\n",
      "尚偉倫\n",
      "賴佳雯\n",
      "陳姵彬\n",
      "林群清\n",
      "趙家豪\n",
      "李政白\n",
      "林俊翔\n",
      "李進慧\n",
      "楊韻如\n",
      "藍姿婷\n",
      "劉嘉泰\n",
      "王柏聖\n",
      "孫宜珊\n",
      "戴萱能\n",
      "高士凱\n",
      "楊又源\n",
      "劉昀天\n",
      "王怡君\n",
      "余月修\n",
      "劉萬季\n",
      "陳信宏\n",
      "陳孝邦\n",
      "朱彥志\n",
      "陳奇瑄\n",
      "鄧淑娟\n",
      "陳逸凡\n",
      "張牧聿\n",
      "唐雪豪\n",
      "林康亮\n",
      "黃旻林\n",
      "蕭淑華\n",
      "劉雯芬\n",
      "陳美惠\n",
      "孫火清\n",
      "溫法堯\n",
      "錢欣潔\n",
      "陳倩潔\n",
      "李雅怡\n",
      "白美珍\n",
      "葉志峰\n",
      "黃佩芬\n",
      "黃麗美\n",
      "黃奎紹\n",
      "邱亭君\n",
      "詹忠光\n",
      "戚亨\n",
      "賴又琦\n",
      "林佳人\n",
      "黃善迪\n",
      "賴苑禾\n",
      "溫重意\n",
      "周怡啟\n",
      "王明昇\n",
      "羅佩樺\n",
      "陳家維\n",
      "張莉雯\n",
      "高俊男\n",
      "林冠蕙\n",
      "王品星\n",
      "吳孟穎\n",
      "黃雅慧\n",
      "馮耀中\n",
      "元延辛\n",
      "王坤安\n",
      "陳慧君\n",
      "張伊映\n",
      "林士凱\n",
      "蘇婷婷\n",
      "陳淑萍\n",
      "林玉佩\n",
      "謝貞妃\n",
      "杜儀鳳\n",
      "陳倩妮\n",
      "胡淑貞\n",
      "楊偉翔\n",
      "姜琬婷\n",
      "張雅芬\n",
      "葉祖雄\n",
      "沈心利\n",
      "彭虹屏\n",
      "余宗儒\n",
      "李立偉\n",
      "臧怡君\n",
      "吳振瑋\n",
      "陳建豪\n",
      "蕭怡伶\n",
      "周芷蓁\n",
      "黃偉剛\n",
      "黃婷婷\n",
      "郎慧萍\n",
      "林昱芳\n",
      "趙宛真\n",
      "白世宏\n",
      "杜明延\n",
      "許淑婷\n",
      "林珍旺\n",
      "蔡孟泉\n",
      "吳晴洋\n",
      "游一鈺\n",
      "朱士弘\n",
      "黃政甫\n",
      "游淑惠\n",
      "張婕妤\n",
      "陳逸華\n",
      "張天亨\n",
      "張嘉韋\n",
      "王志謙\n",
      "黎惠雯\n",
      "高信宏\n",
      "梁柏宇\n",
      "林志喜\n",
      "金宜芳\n",
      "簡國瑋\n",
      "林清英\n",
      "黃彥孝\n",
      "鄭奇翰\n",
      "李慶亮\n",
      "李蓉瑞\n",
      "張明惟\n",
      "游詩亞\n",
      "黃嘉琪\n",
      "張家秀\n",
      "吳柏誠\n",
      "陳得映\n",
      "郭致恬\n",
      "林麗萍\n",
      "陳樂紫\n",
      "翁鈺婷\n",
      "蔡世馨\n",
      "楊建安\n",
      "李湘婷\n",
      "鞠冠宇\n",
      "林志成\n",
      "陳信念\n",
      "林益妏\n",
      "蔡偉成\n",
      "王惠皓\n",
      "王筱婷\n",
      "楊火帆\n",
      "陳怡珊\n",
      "張慧君\n",
      "翁羽威\n",
      "羅幸娥\n",
      "陳俊憲\n",
      "洪奎夫\n",
      "翁均安\n",
      "吳明妮\n",
      "高智超\n",
      "王人仰\n",
      "劉旭士\n",
      "蘇凡菁\n",
      "謝哲維\n",
      "彭偉妃\n",
      "劉耿琦\n",
      "黃柏宇\n",
      "李佳彥\n",
      "唐翊修\n",
      "陳建香\n",
      "葉軍仰\n",
      "吳志宣\n",
      "林珈發\n",
      "黃翔杰\n",
      "郭坤花\n",
      "吳淑惠\n",
      "簡美君\n",
      "許芳如\n",
      "謝水儒\n",
      "陳怡容\n",
      "蔡欣汝\n",
      "王良斌\n",
      "周家銘\n",
      "張凱妮\n",
      "鄭淑珍\n",
      "陳嘉淑\n",
      "魏秋萍\n",
      "簡佳樺\n",
      "劉佳佩\n",
      "李彥伸\n",
      "陳筱涵\n",
      "蔡明平\n",
      "王展人\n",
      "方筠紹\n",
      "陳志偉\n",
      "錢佩豪\n",
      "陳冠霞\n",
      "潘英迪\n",
      "陳冠竹\n",
      "李淑芳\n",
      "謝南慧\n",
      "趙家豪\n",
      "龐皓芳\n",
      "張彥博\n"
     ]
    }
   ],
   "source": [
    "with open(\"names.txt\",encoding=\"utf_8\") as file:\n",
    "    print(file.read())"
   ]
  },
  {
   "cell_type": "code",
   "execution_count": 4,
   "metadata": {},
   "outputs": [
    {
     "name": "stdout",
     "output_type": "stream",
     "text": [
      "陳怡伶\n",
      "\n"
     ]
    }
   ],
   "source": [
    "with open(\"names.txt\",encoding=\"utf_8\") as file:\n",
    "    print(file.readline())"
   ]
  },
  {
   "cell_type": "code",
   "execution_count": 5,
   "metadata": {},
   "outputs": [
    {
     "name": "stdout",
     "output_type": "stream",
     "text": [
      "陳怡伶\n",
      "\n",
      "馮芳如\n",
      "\n",
      "蒙淑惠\n",
      "\n",
      "張軒宸\n",
      "\n",
      "陳向愛\n",
      "\n",
      "賴心怡\n",
      "\n",
      "王怡珊\n",
      "\n",
      "林詠斌\n",
      "\n",
      "陳淑娟\n",
      "\n",
      "崔孝憲\n",
      "\n",
      "林希啟\n",
      "\n",
      "楊韋廷\n",
      "\n",
      "陳文賢\n",
      "\n",
      "王士銘\n",
      "\n",
      "賴昌韻\n",
      "\n",
      "黃名明\n",
      "\n",
      "吳麗卿\n",
      "\n",
      "游治旺\n",
      "\n",
      "蔡嘉音\n",
      "\n",
      "黃靜怡\n",
      "\n",
      "黃淑芬\n",
      "\n",
      "龔姵君\n",
      "\n",
      "景歡燦\n",
      "\n",
      "李政成\n",
      "\n",
      "楊綺芬\n",
      "\n",
      "昌嘉洋\n",
      "\n",
      "李慈啟\n",
      "\n",
      "游倫城\n",
      "\n",
      "林淑安\n",
      "\n",
      "蔡士賢\n",
      "\n",
      "林世城\n",
      "\n",
      "林佳蓉\n",
      "\n",
      "柯宜臻\n",
      "\n",
      "傅佳琳\n",
      "\n",
      "林瑞喬\n",
      "\n",
      "林佳慧\n",
      "\n",
      "鍾俞禎\n",
      "\n",
      "劉慧君\n",
      "\n",
      "劉林中\n",
      "\n",
      "林怡偉\n",
      "\n",
      "余丞苓\n",
      "\n",
      "黃佩玲\n",
      "\n",
      "林建宏\n",
      "\n",
      "方雅慧\n",
      "\n",
      "林柏洋\n",
      "\n",
      "郭舜昇\n",
      "\n",
      "艾巧夫\n",
      "\n",
      "童建霖\n",
      "\n",
      "蔡至剛\n",
      "\n",
      "黃心航\n",
      "\n",
      "張凡成\n",
      "\n",
      "郭淑枝\n",
      "\n",
      "黃必琪\n",
      "\n",
      "楊健麟\n",
      "\n",
      "林建勳\n",
      "\n",
      "鄭琇亞\n",
      "\n",
      "王雅琴\n",
      "\n",
      "李美洋\n",
      "\n",
      "楊少亮\n",
      "\n",
      "王泓泰\n",
      "\n",
      "黃江旭\n",
      "\n",
      "王梅劭\n",
      "\n",
      "林佳光\n",
      "\n",
      "盧必妍\n",
      "\n",
      "林思賢\n",
      "\n",
      "鄧哲榮\n",
      "\n",
      "陳家年\n",
      "\n",
      "張俊傑\n",
      "\n",
      "洪阿惠\n",
      "\n",
      "陳彥治\n",
      "\n",
      "盧冠發\n",
      "\n",
      "程玫靖\n",
      "\n",
      "潘俊賢\n",
      "\n",
      "呂傑宣\n",
      "\n",
      "鄭孟芳\n",
      "\n",
      "彭茹靖\n",
      "\n",
      "王孝純\n",
      "\n",
      "吳昕婷\n",
      "\n",
      "朱惠儀\n",
      "\n",
      "盧文啟\n",
      "\n",
      "謝佳穎\n",
      "\n",
      "鄭憲定\n",
      "\n",
      "馮淑芬\n",
      "\n",
      "聶心怡\n",
      "\n",
      "黃志福\n",
      "\n",
      "馬彥文\n",
      "\n",
      "郭淑真\n",
      "\n",
      "吳欣書\n",
      "\n",
      "鄭佳玲\n",
      "\n",
      "黃健發\n",
      "\n",
      "胡姿婷\n",
      "\n",
      "林義皓\n",
      "\n",
      "胡芳瑜\n",
      "\n",
      "楊易政\n",
      "\n",
      "王德城\n",
      "\n",
      "劉依婷\n",
      "\n",
      "吳俐芷\n",
      "\n",
      "黃詩妃\n",
      "\n",
      "柯韋成\n",
      "\n",
      "鄧亭聿\n",
      "\n",
      "王雅慧\n",
      "\n",
      "陳凱翔\n",
      "\n",
      "藍哲嘉\n",
      "\n",
      "趙偉銘\n",
      "\n",
      "張韋成\n",
      "\n",
      "林向鈺\n",
      "\n",
      "周琬婷\n",
      "\n",
      "尚偉倫\n",
      "\n",
      "賴佳雯\n",
      "\n",
      "陳姵彬\n",
      "\n",
      "林群清\n",
      "\n",
      "趙家豪\n",
      "\n",
      "李政白\n",
      "\n",
      "林俊翔\n",
      "\n",
      "李進慧\n",
      "\n",
      "楊韻如\n",
      "\n",
      "藍姿婷\n",
      "\n",
      "劉嘉泰\n",
      "\n",
      "王柏聖\n",
      "\n",
      "孫宜珊\n",
      "\n",
      "戴萱能\n",
      "\n",
      "高士凱\n",
      "\n",
      "楊又源\n",
      "\n",
      "劉昀天\n",
      "\n",
      "王怡君\n",
      "\n",
      "余月修\n",
      "\n",
      "劉萬季\n",
      "\n",
      "陳信宏\n",
      "\n",
      "陳孝邦\n",
      "\n",
      "朱彥志\n",
      "\n",
      "陳奇瑄\n",
      "\n",
      "鄧淑娟\n",
      "\n",
      "陳逸凡\n",
      "\n",
      "張牧聿\n",
      "\n",
      "唐雪豪\n",
      "\n",
      "林康亮\n",
      "\n",
      "黃旻林\n",
      "\n",
      "蕭淑華\n",
      "\n",
      "劉雯芬\n",
      "\n",
      "陳美惠\n",
      "\n",
      "孫火清\n",
      "\n",
      "溫法堯\n",
      "\n",
      "錢欣潔\n",
      "\n",
      "陳倩潔\n",
      "\n",
      "李雅怡\n",
      "\n",
      "白美珍\n",
      "\n",
      "葉志峰\n",
      "\n",
      "黃佩芬\n",
      "\n",
      "黃麗美\n",
      "\n",
      "黃奎紹\n",
      "\n",
      "邱亭君\n",
      "\n",
      "詹忠光\n",
      "\n",
      "戚亨\n",
      "\n",
      "賴又琦\n",
      "\n",
      "林佳人\n",
      "\n",
      "黃善迪\n",
      "\n",
      "賴苑禾\n",
      "\n",
      "溫重意\n",
      "\n",
      "周怡啟\n",
      "\n",
      "王明昇\n",
      "\n",
      "羅佩樺\n",
      "\n",
      "陳家維\n",
      "\n",
      "張莉雯\n",
      "\n",
      "高俊男\n",
      "\n",
      "林冠蕙\n",
      "\n",
      "王品星\n",
      "\n",
      "吳孟穎\n",
      "\n",
      "黃雅慧\n",
      "\n",
      "馮耀中\n",
      "\n",
      "元延辛\n",
      "\n",
      "王坤安\n",
      "\n",
      "陳慧君\n",
      "\n",
      "張伊映\n",
      "\n",
      "林士凱\n",
      "\n",
      "蘇婷婷\n",
      "\n",
      "陳淑萍\n",
      "\n",
      "林玉佩\n",
      "\n",
      "謝貞妃\n",
      "\n",
      "杜儀鳳\n",
      "\n",
      "陳倩妮\n",
      "\n",
      "胡淑貞\n",
      "\n",
      "楊偉翔\n",
      "\n",
      "姜琬婷\n",
      "\n",
      "張雅芬\n",
      "\n",
      "葉祖雄\n",
      "\n",
      "沈心利\n",
      "\n",
      "彭虹屏\n",
      "\n",
      "余宗儒\n",
      "\n",
      "李立偉\n",
      "\n",
      "臧怡君\n",
      "\n",
      "吳振瑋\n",
      "\n",
      "陳建豪\n",
      "\n",
      "蕭怡伶\n",
      "\n",
      "周芷蓁\n",
      "\n",
      "黃偉剛\n",
      "\n",
      "黃婷婷\n",
      "\n",
      "郎慧萍\n",
      "\n",
      "林昱芳\n",
      "\n",
      "趙宛真\n",
      "\n",
      "白世宏\n",
      "\n",
      "杜明延\n",
      "\n",
      "許淑婷\n",
      "\n",
      "林珍旺\n",
      "\n",
      "蔡孟泉\n",
      "\n",
      "吳晴洋\n",
      "\n",
      "游一鈺\n",
      "\n",
      "朱士弘\n",
      "\n",
      "黃政甫\n",
      "\n",
      "游淑惠\n",
      "\n",
      "張婕妤\n",
      "\n",
      "陳逸華\n",
      "\n",
      "張天亨\n",
      "\n",
      "張嘉韋\n",
      "\n",
      "王志謙\n",
      "\n",
      "黎惠雯\n",
      "\n",
      "高信宏\n",
      "\n",
      "梁柏宇\n",
      "\n",
      "林志喜\n",
      "\n",
      "金宜芳\n",
      "\n",
      "簡國瑋\n",
      "\n",
      "林清英\n",
      "\n",
      "黃彥孝\n",
      "\n",
      "鄭奇翰\n",
      "\n",
      "李慶亮\n",
      "\n",
      "李蓉瑞\n",
      "\n",
      "張明惟\n",
      "\n",
      "游詩亞\n",
      "\n",
      "黃嘉琪\n",
      "\n",
      "張家秀\n",
      "\n",
      "吳柏誠\n",
      "\n",
      "陳得映\n",
      "\n",
      "郭致恬\n",
      "\n",
      "林麗萍\n",
      "\n",
      "陳樂紫\n",
      "\n",
      "翁鈺婷\n",
      "\n",
      "蔡世馨\n",
      "\n",
      "楊建安\n",
      "\n",
      "李湘婷\n",
      "\n",
      "鞠冠宇\n",
      "\n",
      "林志成\n",
      "\n",
      "陳信念\n",
      "\n",
      "林益妏\n",
      "\n",
      "蔡偉成\n",
      "\n",
      "王惠皓\n",
      "\n",
      "王筱婷\n",
      "\n",
      "楊火帆\n",
      "\n",
      "陳怡珊\n",
      "\n",
      "張慧君\n",
      "\n",
      "翁羽威\n",
      "\n",
      "羅幸娥\n",
      "\n",
      "陳俊憲\n",
      "\n",
      "洪奎夫\n",
      "\n",
      "翁均安\n",
      "\n",
      "吳明妮\n",
      "\n",
      "高智超\n",
      "\n",
      "王人仰\n",
      "\n",
      "劉旭士\n",
      "\n",
      "蘇凡菁\n",
      "\n",
      "謝哲維\n",
      "\n",
      "彭偉妃\n",
      "\n",
      "劉耿琦\n",
      "\n",
      "黃柏宇\n",
      "\n",
      "李佳彥\n",
      "\n",
      "唐翊修\n",
      "\n",
      "陳建香\n",
      "\n",
      "葉軍仰\n",
      "\n",
      "吳志宣\n",
      "\n",
      "林珈發\n",
      "\n",
      "黃翔杰\n",
      "\n",
      "郭坤花\n",
      "\n",
      "吳淑惠\n",
      "\n",
      "簡美君\n",
      "\n",
      "許芳如\n",
      "\n",
      "謝水儒\n",
      "\n",
      "陳怡容\n",
      "\n",
      "蔡欣汝\n",
      "\n",
      "王良斌\n",
      "\n",
      "周家銘\n",
      "\n",
      "張凱妮\n",
      "\n",
      "鄭淑珍\n",
      "\n",
      "陳嘉淑\n",
      "\n",
      "魏秋萍\n",
      "\n",
      "簡佳樺\n",
      "\n",
      "劉佳佩\n",
      "\n",
      "李彥伸\n",
      "\n",
      "陳筱涵\n",
      "\n",
      "蔡明平\n",
      "\n",
      "王展人\n",
      "\n",
      "方筠紹\n",
      "\n",
      "陳志偉\n",
      "\n",
      "錢佩豪\n",
      "\n",
      "陳冠霞\n",
      "\n",
      "潘英迪\n",
      "\n",
      "陳冠竹\n",
      "\n",
      "李淑芳\n",
      "\n",
      "謝南慧\n",
      "\n",
      "趙家豪\n",
      "\n",
      "龐皓芳\n",
      "\n",
      "張彥博\n"
     ]
    }
   ],
   "source": [
    "with open(\"names.txt\",encoding=\"utf_8\") as file:\n",
    "    for name in file:\n",
    "        print(name)"
   ]
  },
  {
   "cell_type": "code",
   "execution_count": 6,
   "metadata": {},
   "outputs": [
    {
     "data": {
      "text/plain": [
       "'陳怡伶\\n'"
      ]
     },
     "metadata": {},
     "output_type": "display_data"
    },
    {
     "data": {
      "text/plain": [
       "'馮芳如\\n'"
      ]
     },
     "metadata": {},
     "output_type": "display_data"
    },
    {
     "data": {
      "text/plain": [
       "'蒙淑惠\\n'"
      ]
     },
     "metadata": {},
     "output_type": "display_data"
    },
    {
     "data": {
      "text/plain": [
       "'張軒宸\\n'"
      ]
     },
     "metadata": {},
     "output_type": "display_data"
    },
    {
     "data": {
      "text/plain": [
       "'陳向愛\\n'"
      ]
     },
     "metadata": {},
     "output_type": "display_data"
    },
    {
     "data": {
      "text/plain": [
       "'賴心怡\\n'"
      ]
     },
     "metadata": {},
     "output_type": "display_data"
    },
    {
     "data": {
      "text/plain": [
       "'王怡珊\\n'"
      ]
     },
     "metadata": {},
     "output_type": "display_data"
    },
    {
     "data": {
      "text/plain": [
       "'林詠斌\\n'"
      ]
     },
     "metadata": {},
     "output_type": "display_data"
    },
    {
     "data": {
      "text/plain": [
       "'陳淑娟\\n'"
      ]
     },
     "metadata": {},
     "output_type": "display_data"
    },
    {
     "data": {
      "text/plain": [
       "'崔孝憲\\n'"
      ]
     },
     "metadata": {},
     "output_type": "display_data"
    },
    {
     "data": {
      "text/plain": [
       "'林希啟\\n'"
      ]
     },
     "metadata": {},
     "output_type": "display_data"
    },
    {
     "data": {
      "text/plain": [
       "'楊韋廷\\n'"
      ]
     },
     "metadata": {},
     "output_type": "display_data"
    },
    {
     "data": {
      "text/plain": [
       "'陳文賢\\n'"
      ]
     },
     "metadata": {},
     "output_type": "display_data"
    },
    {
     "data": {
      "text/plain": [
       "'王士銘\\n'"
      ]
     },
     "metadata": {},
     "output_type": "display_data"
    },
    {
     "data": {
      "text/plain": [
       "'賴昌韻\\n'"
      ]
     },
     "metadata": {},
     "output_type": "display_data"
    },
    {
     "data": {
      "text/plain": [
       "'黃名明\\n'"
      ]
     },
     "metadata": {},
     "output_type": "display_data"
    },
    {
     "data": {
      "text/plain": [
       "'吳麗卿\\n'"
      ]
     },
     "metadata": {},
     "output_type": "display_data"
    },
    {
     "data": {
      "text/plain": [
       "'游治旺\\n'"
      ]
     },
     "metadata": {},
     "output_type": "display_data"
    },
    {
     "data": {
      "text/plain": [
       "'蔡嘉音\\n'"
      ]
     },
     "metadata": {},
     "output_type": "display_data"
    },
    {
     "data": {
      "text/plain": [
       "'黃靜怡\\n'"
      ]
     },
     "metadata": {},
     "output_type": "display_data"
    },
    {
     "data": {
      "text/plain": [
       "'黃淑芬\\n'"
      ]
     },
     "metadata": {},
     "output_type": "display_data"
    },
    {
     "data": {
      "text/plain": [
       "'龔姵君\\n'"
      ]
     },
     "metadata": {},
     "output_type": "display_data"
    },
    {
     "data": {
      "text/plain": [
       "'景歡燦\\n'"
      ]
     },
     "metadata": {},
     "output_type": "display_data"
    },
    {
     "data": {
      "text/plain": [
       "'李政成\\n'"
      ]
     },
     "metadata": {},
     "output_type": "display_data"
    },
    {
     "data": {
      "text/plain": [
       "'楊綺芬\\n'"
      ]
     },
     "metadata": {},
     "output_type": "display_data"
    },
    {
     "data": {
      "text/plain": [
       "'昌嘉洋\\n'"
      ]
     },
     "metadata": {},
     "output_type": "display_data"
    },
    {
     "data": {
      "text/plain": [
       "'李慈啟\\n'"
      ]
     },
     "metadata": {},
     "output_type": "display_data"
    },
    {
     "data": {
      "text/plain": [
       "'游倫城\\n'"
      ]
     },
     "metadata": {},
     "output_type": "display_data"
    },
    {
     "data": {
      "text/plain": [
       "'林淑安\\n'"
      ]
     },
     "metadata": {},
     "output_type": "display_data"
    },
    {
     "data": {
      "text/plain": [
       "'蔡士賢\\n'"
      ]
     },
     "metadata": {},
     "output_type": "display_data"
    },
    {
     "data": {
      "text/plain": [
       "'林世城\\n'"
      ]
     },
     "metadata": {},
     "output_type": "display_data"
    },
    {
     "data": {
      "text/plain": [
       "'林佳蓉\\n'"
      ]
     },
     "metadata": {},
     "output_type": "display_data"
    },
    {
     "data": {
      "text/plain": [
       "'柯宜臻\\n'"
      ]
     },
     "metadata": {},
     "output_type": "display_data"
    },
    {
     "data": {
      "text/plain": [
       "'傅佳琳\\n'"
      ]
     },
     "metadata": {},
     "output_type": "display_data"
    },
    {
     "data": {
      "text/plain": [
       "'林瑞喬\\n'"
      ]
     },
     "metadata": {},
     "output_type": "display_data"
    },
    {
     "data": {
      "text/plain": [
       "'林佳慧\\n'"
      ]
     },
     "metadata": {},
     "output_type": "display_data"
    },
    {
     "data": {
      "text/plain": [
       "'鍾俞禎\\n'"
      ]
     },
     "metadata": {},
     "output_type": "display_data"
    },
    {
     "data": {
      "text/plain": [
       "'劉慧君\\n'"
      ]
     },
     "metadata": {},
     "output_type": "display_data"
    },
    {
     "data": {
      "text/plain": [
       "'劉林中\\n'"
      ]
     },
     "metadata": {},
     "output_type": "display_data"
    },
    {
     "data": {
      "text/plain": [
       "'林怡偉\\n'"
      ]
     },
     "metadata": {},
     "output_type": "display_data"
    },
    {
     "data": {
      "text/plain": [
       "'余丞苓\\n'"
      ]
     },
     "metadata": {},
     "output_type": "display_data"
    },
    {
     "data": {
      "text/plain": [
       "'黃佩玲\\n'"
      ]
     },
     "metadata": {},
     "output_type": "display_data"
    },
    {
     "data": {
      "text/plain": [
       "'林建宏\\n'"
      ]
     },
     "metadata": {},
     "output_type": "display_data"
    },
    {
     "data": {
      "text/plain": [
       "'方雅慧\\n'"
      ]
     },
     "metadata": {},
     "output_type": "display_data"
    },
    {
     "data": {
      "text/plain": [
       "'林柏洋\\n'"
      ]
     },
     "metadata": {},
     "output_type": "display_data"
    },
    {
     "data": {
      "text/plain": [
       "'郭舜昇\\n'"
      ]
     },
     "metadata": {},
     "output_type": "display_data"
    },
    {
     "data": {
      "text/plain": [
       "'艾巧夫\\n'"
      ]
     },
     "metadata": {},
     "output_type": "display_data"
    },
    {
     "data": {
      "text/plain": [
       "'童建霖\\n'"
      ]
     },
     "metadata": {},
     "output_type": "display_data"
    },
    {
     "data": {
      "text/plain": [
       "'蔡至剛\\n'"
      ]
     },
     "metadata": {},
     "output_type": "display_data"
    },
    {
     "data": {
      "text/plain": [
       "'黃心航\\n'"
      ]
     },
     "metadata": {},
     "output_type": "display_data"
    },
    {
     "data": {
      "text/plain": [
       "'張凡成\\n'"
      ]
     },
     "metadata": {},
     "output_type": "display_data"
    },
    {
     "data": {
      "text/plain": [
       "'郭淑枝\\n'"
      ]
     },
     "metadata": {},
     "output_type": "display_data"
    },
    {
     "data": {
      "text/plain": [
       "'黃必琪\\n'"
      ]
     },
     "metadata": {},
     "output_type": "display_data"
    },
    {
     "data": {
      "text/plain": [
       "'楊健麟\\n'"
      ]
     },
     "metadata": {},
     "output_type": "display_data"
    },
    {
     "data": {
      "text/plain": [
       "'林建勳\\n'"
      ]
     },
     "metadata": {},
     "output_type": "display_data"
    },
    {
     "data": {
      "text/plain": [
       "'鄭琇亞\\n'"
      ]
     },
     "metadata": {},
     "output_type": "display_data"
    },
    {
     "data": {
      "text/plain": [
       "'王雅琴\\n'"
      ]
     },
     "metadata": {},
     "output_type": "display_data"
    },
    {
     "data": {
      "text/plain": [
       "'李美洋\\n'"
      ]
     },
     "metadata": {},
     "output_type": "display_data"
    },
    {
     "data": {
      "text/plain": [
       "'楊少亮\\n'"
      ]
     },
     "metadata": {},
     "output_type": "display_data"
    },
    {
     "data": {
      "text/plain": [
       "'王泓泰\\n'"
      ]
     },
     "metadata": {},
     "output_type": "display_data"
    },
    {
     "data": {
      "text/plain": [
       "'黃江旭\\n'"
      ]
     },
     "metadata": {},
     "output_type": "display_data"
    },
    {
     "data": {
      "text/plain": [
       "'王梅劭\\n'"
      ]
     },
     "metadata": {},
     "output_type": "display_data"
    },
    {
     "data": {
      "text/plain": [
       "'林佳光\\n'"
      ]
     },
     "metadata": {},
     "output_type": "display_data"
    },
    {
     "data": {
      "text/plain": [
       "'盧必妍\\n'"
      ]
     },
     "metadata": {},
     "output_type": "display_data"
    },
    {
     "data": {
      "text/plain": [
       "'林思賢\\n'"
      ]
     },
     "metadata": {},
     "output_type": "display_data"
    },
    {
     "data": {
      "text/plain": [
       "'鄧哲榮\\n'"
      ]
     },
     "metadata": {},
     "output_type": "display_data"
    },
    {
     "data": {
      "text/plain": [
       "'陳家年\\n'"
      ]
     },
     "metadata": {},
     "output_type": "display_data"
    },
    {
     "data": {
      "text/plain": [
       "'張俊傑\\n'"
      ]
     },
     "metadata": {},
     "output_type": "display_data"
    },
    {
     "data": {
      "text/plain": [
       "'洪阿惠\\n'"
      ]
     },
     "metadata": {},
     "output_type": "display_data"
    },
    {
     "data": {
      "text/plain": [
       "'陳彥治\\n'"
      ]
     },
     "metadata": {},
     "output_type": "display_data"
    },
    {
     "data": {
      "text/plain": [
       "'盧冠發\\n'"
      ]
     },
     "metadata": {},
     "output_type": "display_data"
    },
    {
     "data": {
      "text/plain": [
       "'程玫靖\\n'"
      ]
     },
     "metadata": {},
     "output_type": "display_data"
    },
    {
     "data": {
      "text/plain": [
       "'潘俊賢\\n'"
      ]
     },
     "metadata": {},
     "output_type": "display_data"
    },
    {
     "data": {
      "text/plain": [
       "'呂傑宣\\n'"
      ]
     },
     "metadata": {},
     "output_type": "display_data"
    },
    {
     "data": {
      "text/plain": [
       "'鄭孟芳\\n'"
      ]
     },
     "metadata": {},
     "output_type": "display_data"
    },
    {
     "data": {
      "text/plain": [
       "'彭茹靖\\n'"
      ]
     },
     "metadata": {},
     "output_type": "display_data"
    },
    {
     "data": {
      "text/plain": [
       "'王孝純\\n'"
      ]
     },
     "metadata": {},
     "output_type": "display_data"
    },
    {
     "data": {
      "text/plain": [
       "'吳昕婷\\n'"
      ]
     },
     "metadata": {},
     "output_type": "display_data"
    },
    {
     "data": {
      "text/plain": [
       "'朱惠儀\\n'"
      ]
     },
     "metadata": {},
     "output_type": "display_data"
    },
    {
     "data": {
      "text/plain": [
       "'盧文啟\\n'"
      ]
     },
     "metadata": {},
     "output_type": "display_data"
    },
    {
     "data": {
      "text/plain": [
       "'謝佳穎\\n'"
      ]
     },
     "metadata": {},
     "output_type": "display_data"
    },
    {
     "data": {
      "text/plain": [
       "'鄭憲定\\n'"
      ]
     },
     "metadata": {},
     "output_type": "display_data"
    },
    {
     "data": {
      "text/plain": [
       "'馮淑芬\\n'"
      ]
     },
     "metadata": {},
     "output_type": "display_data"
    },
    {
     "data": {
      "text/plain": [
       "'聶心怡\\n'"
      ]
     },
     "metadata": {},
     "output_type": "display_data"
    },
    {
     "data": {
      "text/plain": [
       "'黃志福\\n'"
      ]
     },
     "metadata": {},
     "output_type": "display_data"
    },
    {
     "data": {
      "text/plain": [
       "'馬彥文\\n'"
      ]
     },
     "metadata": {},
     "output_type": "display_data"
    },
    {
     "data": {
      "text/plain": [
       "'郭淑真\\n'"
      ]
     },
     "metadata": {},
     "output_type": "display_data"
    },
    {
     "data": {
      "text/plain": [
       "'吳欣書\\n'"
      ]
     },
     "metadata": {},
     "output_type": "display_data"
    },
    {
     "data": {
      "text/plain": [
       "'鄭佳玲\\n'"
      ]
     },
     "metadata": {},
     "output_type": "display_data"
    },
    {
     "data": {
      "text/plain": [
       "'黃健發\\n'"
      ]
     },
     "metadata": {},
     "output_type": "display_data"
    },
    {
     "data": {
      "text/plain": [
       "'胡姿婷\\n'"
      ]
     },
     "metadata": {},
     "output_type": "display_data"
    },
    {
     "data": {
      "text/plain": [
       "'林義皓\\n'"
      ]
     },
     "metadata": {},
     "output_type": "display_data"
    },
    {
     "data": {
      "text/plain": [
       "'胡芳瑜\\n'"
      ]
     },
     "metadata": {},
     "output_type": "display_data"
    },
    {
     "data": {
      "text/plain": [
       "'楊易政\\n'"
      ]
     },
     "metadata": {},
     "output_type": "display_data"
    },
    {
     "data": {
      "text/plain": [
       "'王德城\\n'"
      ]
     },
     "metadata": {},
     "output_type": "display_data"
    },
    {
     "data": {
      "text/plain": [
       "'劉依婷\\n'"
      ]
     },
     "metadata": {},
     "output_type": "display_data"
    },
    {
     "data": {
      "text/plain": [
       "'吳俐芷\\n'"
      ]
     },
     "metadata": {},
     "output_type": "display_data"
    },
    {
     "data": {
      "text/plain": [
       "'黃詩妃\\n'"
      ]
     },
     "metadata": {},
     "output_type": "display_data"
    },
    {
     "data": {
      "text/plain": [
       "'柯韋成\\n'"
      ]
     },
     "metadata": {},
     "output_type": "display_data"
    },
    {
     "data": {
      "text/plain": [
       "'鄧亭聿\\n'"
      ]
     },
     "metadata": {},
     "output_type": "display_data"
    },
    {
     "data": {
      "text/plain": [
       "'王雅慧\\n'"
      ]
     },
     "metadata": {},
     "output_type": "display_data"
    },
    {
     "data": {
      "text/plain": [
       "'陳凱翔\\n'"
      ]
     },
     "metadata": {},
     "output_type": "display_data"
    },
    {
     "data": {
      "text/plain": [
       "'藍哲嘉\\n'"
      ]
     },
     "metadata": {},
     "output_type": "display_data"
    },
    {
     "data": {
      "text/plain": [
       "'趙偉銘\\n'"
      ]
     },
     "metadata": {},
     "output_type": "display_data"
    },
    {
     "data": {
      "text/plain": [
       "'張韋成\\n'"
      ]
     },
     "metadata": {},
     "output_type": "display_data"
    },
    {
     "data": {
      "text/plain": [
       "'林向鈺\\n'"
      ]
     },
     "metadata": {},
     "output_type": "display_data"
    },
    {
     "data": {
      "text/plain": [
       "'周琬婷\\n'"
      ]
     },
     "metadata": {},
     "output_type": "display_data"
    },
    {
     "data": {
      "text/plain": [
       "'尚偉倫\\n'"
      ]
     },
     "metadata": {},
     "output_type": "display_data"
    },
    {
     "data": {
      "text/plain": [
       "'賴佳雯\\n'"
      ]
     },
     "metadata": {},
     "output_type": "display_data"
    },
    {
     "data": {
      "text/plain": [
       "'陳姵彬\\n'"
      ]
     },
     "metadata": {},
     "output_type": "display_data"
    },
    {
     "data": {
      "text/plain": [
       "'林群清\\n'"
      ]
     },
     "metadata": {},
     "output_type": "display_data"
    },
    {
     "data": {
      "text/plain": [
       "'趙家豪\\n'"
      ]
     },
     "metadata": {},
     "output_type": "display_data"
    },
    {
     "data": {
      "text/plain": [
       "'李政白\\n'"
      ]
     },
     "metadata": {},
     "output_type": "display_data"
    },
    {
     "data": {
      "text/plain": [
       "'林俊翔\\n'"
      ]
     },
     "metadata": {},
     "output_type": "display_data"
    },
    {
     "data": {
      "text/plain": [
       "'李進慧\\n'"
      ]
     },
     "metadata": {},
     "output_type": "display_data"
    },
    {
     "data": {
      "text/plain": [
       "'楊韻如\\n'"
      ]
     },
     "metadata": {},
     "output_type": "display_data"
    },
    {
     "data": {
      "text/plain": [
       "'藍姿婷\\n'"
      ]
     },
     "metadata": {},
     "output_type": "display_data"
    },
    {
     "data": {
      "text/plain": [
       "'劉嘉泰\\n'"
      ]
     },
     "metadata": {},
     "output_type": "display_data"
    },
    {
     "data": {
      "text/plain": [
       "'王柏聖\\n'"
      ]
     },
     "metadata": {},
     "output_type": "display_data"
    },
    {
     "data": {
      "text/plain": [
       "'孫宜珊\\n'"
      ]
     },
     "metadata": {},
     "output_type": "display_data"
    },
    {
     "data": {
      "text/plain": [
       "'戴萱能\\n'"
      ]
     },
     "metadata": {},
     "output_type": "display_data"
    },
    {
     "data": {
      "text/plain": [
       "'高士凱\\n'"
      ]
     },
     "metadata": {},
     "output_type": "display_data"
    },
    {
     "data": {
      "text/plain": [
       "'楊又源\\n'"
      ]
     },
     "metadata": {},
     "output_type": "display_data"
    },
    {
     "data": {
      "text/plain": [
       "'劉昀天\\n'"
      ]
     },
     "metadata": {},
     "output_type": "display_data"
    },
    {
     "data": {
      "text/plain": [
       "'王怡君\\n'"
      ]
     },
     "metadata": {},
     "output_type": "display_data"
    },
    {
     "data": {
      "text/plain": [
       "'余月修\\n'"
      ]
     },
     "metadata": {},
     "output_type": "display_data"
    },
    {
     "data": {
      "text/plain": [
       "'劉萬季\\n'"
      ]
     },
     "metadata": {},
     "output_type": "display_data"
    },
    {
     "data": {
      "text/plain": [
       "'陳信宏\\n'"
      ]
     },
     "metadata": {},
     "output_type": "display_data"
    },
    {
     "data": {
      "text/plain": [
       "'陳孝邦\\n'"
      ]
     },
     "metadata": {},
     "output_type": "display_data"
    },
    {
     "data": {
      "text/plain": [
       "'朱彥志\\n'"
      ]
     },
     "metadata": {},
     "output_type": "display_data"
    },
    {
     "data": {
      "text/plain": [
       "'陳奇瑄\\n'"
      ]
     },
     "metadata": {},
     "output_type": "display_data"
    },
    {
     "data": {
      "text/plain": [
       "'鄧淑娟\\n'"
      ]
     },
     "metadata": {},
     "output_type": "display_data"
    },
    {
     "data": {
      "text/plain": [
       "'陳逸凡\\n'"
      ]
     },
     "metadata": {},
     "output_type": "display_data"
    },
    {
     "data": {
      "text/plain": [
       "'張牧聿\\n'"
      ]
     },
     "metadata": {},
     "output_type": "display_data"
    },
    {
     "data": {
      "text/plain": [
       "'唐雪豪\\n'"
      ]
     },
     "metadata": {},
     "output_type": "display_data"
    },
    {
     "data": {
      "text/plain": [
       "'林康亮\\n'"
      ]
     },
     "metadata": {},
     "output_type": "display_data"
    },
    {
     "data": {
      "text/plain": [
       "'黃旻林\\n'"
      ]
     },
     "metadata": {},
     "output_type": "display_data"
    },
    {
     "data": {
      "text/plain": [
       "'蕭淑華\\n'"
      ]
     },
     "metadata": {},
     "output_type": "display_data"
    },
    {
     "data": {
      "text/plain": [
       "'劉雯芬\\n'"
      ]
     },
     "metadata": {},
     "output_type": "display_data"
    },
    {
     "data": {
      "text/plain": [
       "'陳美惠\\n'"
      ]
     },
     "metadata": {},
     "output_type": "display_data"
    },
    {
     "data": {
      "text/plain": [
       "'孫火清\\n'"
      ]
     },
     "metadata": {},
     "output_type": "display_data"
    },
    {
     "data": {
      "text/plain": [
       "'溫法堯\\n'"
      ]
     },
     "metadata": {},
     "output_type": "display_data"
    },
    {
     "data": {
      "text/plain": [
       "'錢欣潔\\n'"
      ]
     },
     "metadata": {},
     "output_type": "display_data"
    },
    {
     "data": {
      "text/plain": [
       "'陳倩潔\\n'"
      ]
     },
     "metadata": {},
     "output_type": "display_data"
    },
    {
     "data": {
      "text/plain": [
       "'李雅怡\\n'"
      ]
     },
     "metadata": {},
     "output_type": "display_data"
    },
    {
     "data": {
      "text/plain": [
       "'白美珍\\n'"
      ]
     },
     "metadata": {},
     "output_type": "display_data"
    },
    {
     "data": {
      "text/plain": [
       "'葉志峰\\n'"
      ]
     },
     "metadata": {},
     "output_type": "display_data"
    },
    {
     "data": {
      "text/plain": [
       "'黃佩芬\\n'"
      ]
     },
     "metadata": {},
     "output_type": "display_data"
    },
    {
     "data": {
      "text/plain": [
       "'黃麗美\\n'"
      ]
     },
     "metadata": {},
     "output_type": "display_data"
    },
    {
     "data": {
      "text/plain": [
       "'黃奎紹\\n'"
      ]
     },
     "metadata": {},
     "output_type": "display_data"
    },
    {
     "data": {
      "text/plain": [
       "'邱亭君\\n'"
      ]
     },
     "metadata": {},
     "output_type": "display_data"
    },
    {
     "data": {
      "text/plain": [
       "'詹忠光\\n'"
      ]
     },
     "metadata": {},
     "output_type": "display_data"
    },
    {
     "data": {
      "text/plain": [
       "'戚亨\\n'"
      ]
     },
     "metadata": {},
     "output_type": "display_data"
    },
    {
     "data": {
      "text/plain": [
       "'賴又琦\\n'"
      ]
     },
     "metadata": {},
     "output_type": "display_data"
    },
    {
     "data": {
      "text/plain": [
       "'林佳人\\n'"
      ]
     },
     "metadata": {},
     "output_type": "display_data"
    },
    {
     "data": {
      "text/plain": [
       "'黃善迪\\n'"
      ]
     },
     "metadata": {},
     "output_type": "display_data"
    },
    {
     "data": {
      "text/plain": [
       "'賴苑禾\\n'"
      ]
     },
     "metadata": {},
     "output_type": "display_data"
    },
    {
     "data": {
      "text/plain": [
       "'溫重意\\n'"
      ]
     },
     "metadata": {},
     "output_type": "display_data"
    },
    {
     "data": {
      "text/plain": [
       "'周怡啟\\n'"
      ]
     },
     "metadata": {},
     "output_type": "display_data"
    },
    {
     "data": {
      "text/plain": [
       "'王明昇\\n'"
      ]
     },
     "metadata": {},
     "output_type": "display_data"
    },
    {
     "data": {
      "text/plain": [
       "'羅佩樺\\n'"
      ]
     },
     "metadata": {},
     "output_type": "display_data"
    },
    {
     "data": {
      "text/plain": [
       "'陳家維\\n'"
      ]
     },
     "metadata": {},
     "output_type": "display_data"
    },
    {
     "data": {
      "text/plain": [
       "'張莉雯\\n'"
      ]
     },
     "metadata": {},
     "output_type": "display_data"
    },
    {
     "data": {
      "text/plain": [
       "'高俊男\\n'"
      ]
     },
     "metadata": {},
     "output_type": "display_data"
    },
    {
     "data": {
      "text/plain": [
       "'林冠蕙\\n'"
      ]
     },
     "metadata": {},
     "output_type": "display_data"
    },
    {
     "data": {
      "text/plain": [
       "'王品星\\n'"
      ]
     },
     "metadata": {},
     "output_type": "display_data"
    },
    {
     "data": {
      "text/plain": [
       "'吳孟穎\\n'"
      ]
     },
     "metadata": {},
     "output_type": "display_data"
    },
    {
     "data": {
      "text/plain": [
       "'黃雅慧\\n'"
      ]
     },
     "metadata": {},
     "output_type": "display_data"
    },
    {
     "data": {
      "text/plain": [
       "'馮耀中\\n'"
      ]
     },
     "metadata": {},
     "output_type": "display_data"
    },
    {
     "data": {
      "text/plain": [
       "'元延辛\\n'"
      ]
     },
     "metadata": {},
     "output_type": "display_data"
    },
    {
     "data": {
      "text/plain": [
       "'王坤安\\n'"
      ]
     },
     "metadata": {},
     "output_type": "display_data"
    },
    {
     "data": {
      "text/plain": [
       "'陳慧君\\n'"
      ]
     },
     "metadata": {},
     "output_type": "display_data"
    },
    {
     "data": {
      "text/plain": [
       "'張伊映\\n'"
      ]
     },
     "metadata": {},
     "output_type": "display_data"
    },
    {
     "data": {
      "text/plain": [
       "'林士凱\\n'"
      ]
     },
     "metadata": {},
     "output_type": "display_data"
    },
    {
     "data": {
      "text/plain": [
       "'蘇婷婷\\n'"
      ]
     },
     "metadata": {},
     "output_type": "display_data"
    },
    {
     "data": {
      "text/plain": [
       "'陳淑萍\\n'"
      ]
     },
     "metadata": {},
     "output_type": "display_data"
    },
    {
     "data": {
      "text/plain": [
       "'林玉佩\\n'"
      ]
     },
     "metadata": {},
     "output_type": "display_data"
    },
    {
     "data": {
      "text/plain": [
       "'謝貞妃\\n'"
      ]
     },
     "metadata": {},
     "output_type": "display_data"
    },
    {
     "data": {
      "text/plain": [
       "'杜儀鳳\\n'"
      ]
     },
     "metadata": {},
     "output_type": "display_data"
    },
    {
     "data": {
      "text/plain": [
       "'陳倩妮\\n'"
      ]
     },
     "metadata": {},
     "output_type": "display_data"
    },
    {
     "data": {
      "text/plain": [
       "'胡淑貞\\n'"
      ]
     },
     "metadata": {},
     "output_type": "display_data"
    },
    {
     "data": {
      "text/plain": [
       "'楊偉翔\\n'"
      ]
     },
     "metadata": {},
     "output_type": "display_data"
    },
    {
     "data": {
      "text/plain": [
       "'姜琬婷\\n'"
      ]
     },
     "metadata": {},
     "output_type": "display_data"
    },
    {
     "data": {
      "text/plain": [
       "'張雅芬\\n'"
      ]
     },
     "metadata": {},
     "output_type": "display_data"
    },
    {
     "data": {
      "text/plain": [
       "'葉祖雄\\n'"
      ]
     },
     "metadata": {},
     "output_type": "display_data"
    },
    {
     "data": {
      "text/plain": [
       "'沈心利\\n'"
      ]
     },
     "metadata": {},
     "output_type": "display_data"
    },
    {
     "data": {
      "text/plain": [
       "'彭虹屏\\n'"
      ]
     },
     "metadata": {},
     "output_type": "display_data"
    },
    {
     "data": {
      "text/plain": [
       "'余宗儒\\n'"
      ]
     },
     "metadata": {},
     "output_type": "display_data"
    },
    {
     "data": {
      "text/plain": [
       "'李立偉\\n'"
      ]
     },
     "metadata": {},
     "output_type": "display_data"
    },
    {
     "data": {
      "text/plain": [
       "'臧怡君\\n'"
      ]
     },
     "metadata": {},
     "output_type": "display_data"
    },
    {
     "data": {
      "text/plain": [
       "'吳振瑋\\n'"
      ]
     },
     "metadata": {},
     "output_type": "display_data"
    },
    {
     "data": {
      "text/plain": [
       "'陳建豪\\n'"
      ]
     },
     "metadata": {},
     "output_type": "display_data"
    },
    {
     "data": {
      "text/plain": [
       "'蕭怡伶\\n'"
      ]
     },
     "metadata": {},
     "output_type": "display_data"
    },
    {
     "data": {
      "text/plain": [
       "'周芷蓁\\n'"
      ]
     },
     "metadata": {},
     "output_type": "display_data"
    },
    {
     "data": {
      "text/plain": [
       "'黃偉剛\\n'"
      ]
     },
     "metadata": {},
     "output_type": "display_data"
    },
    {
     "data": {
      "text/plain": [
       "'黃婷婷\\n'"
      ]
     },
     "metadata": {},
     "output_type": "display_data"
    },
    {
     "data": {
      "text/plain": [
       "'郎慧萍\\n'"
      ]
     },
     "metadata": {},
     "output_type": "display_data"
    },
    {
     "data": {
      "text/plain": [
       "'林昱芳\\n'"
      ]
     },
     "metadata": {},
     "output_type": "display_data"
    },
    {
     "data": {
      "text/plain": [
       "'趙宛真\\n'"
      ]
     },
     "metadata": {},
     "output_type": "display_data"
    },
    {
     "data": {
      "text/plain": [
       "'白世宏\\n'"
      ]
     },
     "metadata": {},
     "output_type": "display_data"
    },
    {
     "data": {
      "text/plain": [
       "'杜明延\\n'"
      ]
     },
     "metadata": {},
     "output_type": "display_data"
    },
    {
     "data": {
      "text/plain": [
       "'許淑婷\\n'"
      ]
     },
     "metadata": {},
     "output_type": "display_data"
    },
    {
     "data": {
      "text/plain": [
       "'林珍旺\\n'"
      ]
     },
     "metadata": {},
     "output_type": "display_data"
    },
    {
     "data": {
      "text/plain": [
       "'蔡孟泉\\n'"
      ]
     },
     "metadata": {},
     "output_type": "display_data"
    },
    {
     "data": {
      "text/plain": [
       "'吳晴洋\\n'"
      ]
     },
     "metadata": {},
     "output_type": "display_data"
    },
    {
     "data": {
      "text/plain": [
       "'游一鈺\\n'"
      ]
     },
     "metadata": {},
     "output_type": "display_data"
    },
    {
     "data": {
      "text/plain": [
       "'朱士弘\\n'"
      ]
     },
     "metadata": {},
     "output_type": "display_data"
    },
    {
     "data": {
      "text/plain": [
       "'黃政甫\\n'"
      ]
     },
     "metadata": {},
     "output_type": "display_data"
    },
    {
     "data": {
      "text/plain": [
       "'游淑惠\\n'"
      ]
     },
     "metadata": {},
     "output_type": "display_data"
    },
    {
     "data": {
      "text/plain": [
       "'張婕妤\\n'"
      ]
     },
     "metadata": {},
     "output_type": "display_data"
    },
    {
     "data": {
      "text/plain": [
       "'陳逸華\\n'"
      ]
     },
     "metadata": {},
     "output_type": "display_data"
    },
    {
     "data": {
      "text/plain": [
       "'張天亨\\n'"
      ]
     },
     "metadata": {},
     "output_type": "display_data"
    },
    {
     "data": {
      "text/plain": [
       "'張嘉韋\\n'"
      ]
     },
     "metadata": {},
     "output_type": "display_data"
    },
    {
     "data": {
      "text/plain": [
       "'王志謙\\n'"
      ]
     },
     "metadata": {},
     "output_type": "display_data"
    },
    {
     "data": {
      "text/plain": [
       "'黎惠雯\\n'"
      ]
     },
     "metadata": {},
     "output_type": "display_data"
    },
    {
     "data": {
      "text/plain": [
       "'高信宏\\n'"
      ]
     },
     "metadata": {},
     "output_type": "display_data"
    },
    {
     "data": {
      "text/plain": [
       "'梁柏宇\\n'"
      ]
     },
     "metadata": {},
     "output_type": "display_data"
    },
    {
     "data": {
      "text/plain": [
       "'林志喜\\n'"
      ]
     },
     "metadata": {},
     "output_type": "display_data"
    },
    {
     "data": {
      "text/plain": [
       "'金宜芳\\n'"
      ]
     },
     "metadata": {},
     "output_type": "display_data"
    },
    {
     "data": {
      "text/plain": [
       "'簡國瑋\\n'"
      ]
     },
     "metadata": {},
     "output_type": "display_data"
    },
    {
     "data": {
      "text/plain": [
       "'林清英\\n'"
      ]
     },
     "metadata": {},
     "output_type": "display_data"
    },
    {
     "data": {
      "text/plain": [
       "'黃彥孝\\n'"
      ]
     },
     "metadata": {},
     "output_type": "display_data"
    },
    {
     "data": {
      "text/plain": [
       "'鄭奇翰\\n'"
      ]
     },
     "metadata": {},
     "output_type": "display_data"
    },
    {
     "data": {
      "text/plain": [
       "'李慶亮\\n'"
      ]
     },
     "metadata": {},
     "output_type": "display_data"
    },
    {
     "data": {
      "text/plain": [
       "'李蓉瑞\\n'"
      ]
     },
     "metadata": {},
     "output_type": "display_data"
    },
    {
     "data": {
      "text/plain": [
       "'張明惟\\n'"
      ]
     },
     "metadata": {},
     "output_type": "display_data"
    },
    {
     "data": {
      "text/plain": [
       "'游詩亞\\n'"
      ]
     },
     "metadata": {},
     "output_type": "display_data"
    },
    {
     "data": {
      "text/plain": [
       "'黃嘉琪\\n'"
      ]
     },
     "metadata": {},
     "output_type": "display_data"
    },
    {
     "data": {
      "text/plain": [
       "'張家秀\\n'"
      ]
     },
     "metadata": {},
     "output_type": "display_data"
    },
    {
     "data": {
      "text/plain": [
       "'吳柏誠\\n'"
      ]
     },
     "metadata": {},
     "output_type": "display_data"
    },
    {
     "data": {
      "text/plain": [
       "'陳得映\\n'"
      ]
     },
     "metadata": {},
     "output_type": "display_data"
    },
    {
     "data": {
      "text/plain": [
       "'郭致恬\\n'"
      ]
     },
     "metadata": {},
     "output_type": "display_data"
    },
    {
     "data": {
      "text/plain": [
       "'林麗萍\\n'"
      ]
     },
     "metadata": {},
     "output_type": "display_data"
    },
    {
     "data": {
      "text/plain": [
       "'陳樂紫\\n'"
      ]
     },
     "metadata": {},
     "output_type": "display_data"
    },
    {
     "data": {
      "text/plain": [
       "'翁鈺婷\\n'"
      ]
     },
     "metadata": {},
     "output_type": "display_data"
    },
    {
     "data": {
      "text/plain": [
       "'蔡世馨\\n'"
      ]
     },
     "metadata": {},
     "output_type": "display_data"
    },
    {
     "data": {
      "text/plain": [
       "'楊建安\\n'"
      ]
     },
     "metadata": {},
     "output_type": "display_data"
    },
    {
     "data": {
      "text/plain": [
       "'李湘婷\\n'"
      ]
     },
     "metadata": {},
     "output_type": "display_data"
    },
    {
     "data": {
      "text/plain": [
       "'鞠冠宇\\n'"
      ]
     },
     "metadata": {},
     "output_type": "display_data"
    },
    {
     "data": {
      "text/plain": [
       "'林志成\\n'"
      ]
     },
     "metadata": {},
     "output_type": "display_data"
    },
    {
     "data": {
      "text/plain": [
       "'陳信念\\n'"
      ]
     },
     "metadata": {},
     "output_type": "display_data"
    },
    {
     "data": {
      "text/plain": [
       "'林益妏\\n'"
      ]
     },
     "metadata": {},
     "output_type": "display_data"
    },
    {
     "data": {
      "text/plain": [
       "'蔡偉成\\n'"
      ]
     },
     "metadata": {},
     "output_type": "display_data"
    },
    {
     "data": {
      "text/plain": [
       "'王惠皓\\n'"
      ]
     },
     "metadata": {},
     "output_type": "display_data"
    },
    {
     "data": {
      "text/plain": [
       "'王筱婷\\n'"
      ]
     },
     "metadata": {},
     "output_type": "display_data"
    },
    {
     "data": {
      "text/plain": [
       "'楊火帆\\n'"
      ]
     },
     "metadata": {},
     "output_type": "display_data"
    },
    {
     "data": {
      "text/plain": [
       "'陳怡珊\\n'"
      ]
     },
     "metadata": {},
     "output_type": "display_data"
    },
    {
     "data": {
      "text/plain": [
       "'張慧君\\n'"
      ]
     },
     "metadata": {},
     "output_type": "display_data"
    },
    {
     "data": {
      "text/plain": [
       "'翁羽威\\n'"
      ]
     },
     "metadata": {},
     "output_type": "display_data"
    },
    {
     "data": {
      "text/plain": [
       "'羅幸娥\\n'"
      ]
     },
     "metadata": {},
     "output_type": "display_data"
    },
    {
     "data": {
      "text/plain": [
       "'陳俊憲\\n'"
      ]
     },
     "metadata": {},
     "output_type": "display_data"
    },
    {
     "data": {
      "text/plain": [
       "'洪奎夫\\n'"
      ]
     },
     "metadata": {},
     "output_type": "display_data"
    },
    {
     "data": {
      "text/plain": [
       "'翁均安\\n'"
      ]
     },
     "metadata": {},
     "output_type": "display_data"
    },
    {
     "data": {
      "text/plain": [
       "'吳明妮\\n'"
      ]
     },
     "metadata": {},
     "output_type": "display_data"
    },
    {
     "data": {
      "text/plain": [
       "'高智超\\n'"
      ]
     },
     "metadata": {},
     "output_type": "display_data"
    },
    {
     "data": {
      "text/plain": [
       "'王人仰\\n'"
      ]
     },
     "metadata": {},
     "output_type": "display_data"
    },
    {
     "data": {
      "text/plain": [
       "'劉旭士\\n'"
      ]
     },
     "metadata": {},
     "output_type": "display_data"
    },
    {
     "data": {
      "text/plain": [
       "'蘇凡菁\\n'"
      ]
     },
     "metadata": {},
     "output_type": "display_data"
    },
    {
     "data": {
      "text/plain": [
       "'謝哲維\\n'"
      ]
     },
     "metadata": {},
     "output_type": "display_data"
    },
    {
     "data": {
      "text/plain": [
       "'彭偉妃\\n'"
      ]
     },
     "metadata": {},
     "output_type": "display_data"
    },
    {
     "data": {
      "text/plain": [
       "'劉耿琦\\n'"
      ]
     },
     "metadata": {},
     "output_type": "display_data"
    },
    {
     "data": {
      "text/plain": [
       "'黃柏宇\\n'"
      ]
     },
     "metadata": {},
     "output_type": "display_data"
    },
    {
     "data": {
      "text/plain": [
       "'李佳彥\\n'"
      ]
     },
     "metadata": {},
     "output_type": "display_data"
    },
    {
     "data": {
      "text/plain": [
       "'唐翊修\\n'"
      ]
     },
     "metadata": {},
     "output_type": "display_data"
    },
    {
     "data": {
      "text/plain": [
       "'陳建香\\n'"
      ]
     },
     "metadata": {},
     "output_type": "display_data"
    },
    {
     "data": {
      "text/plain": [
       "'葉軍仰\\n'"
      ]
     },
     "metadata": {},
     "output_type": "display_data"
    },
    {
     "data": {
      "text/plain": [
       "'吳志宣\\n'"
      ]
     },
     "metadata": {},
     "output_type": "display_data"
    },
    {
     "data": {
      "text/plain": [
       "'林珈發\\n'"
      ]
     },
     "metadata": {},
     "output_type": "display_data"
    },
    {
     "data": {
      "text/plain": [
       "'黃翔杰\\n'"
      ]
     },
     "metadata": {},
     "output_type": "display_data"
    },
    {
     "data": {
      "text/plain": [
       "'郭坤花\\n'"
      ]
     },
     "metadata": {},
     "output_type": "display_data"
    },
    {
     "data": {
      "text/plain": [
       "'吳淑惠\\n'"
      ]
     },
     "metadata": {},
     "output_type": "display_data"
    },
    {
     "data": {
      "text/plain": [
       "'簡美君\\n'"
      ]
     },
     "metadata": {},
     "output_type": "display_data"
    },
    {
     "data": {
      "text/plain": [
       "'許芳如\\n'"
      ]
     },
     "metadata": {},
     "output_type": "display_data"
    },
    {
     "data": {
      "text/plain": [
       "'謝水儒\\n'"
      ]
     },
     "metadata": {},
     "output_type": "display_data"
    },
    {
     "data": {
      "text/plain": [
       "'陳怡容\\n'"
      ]
     },
     "metadata": {},
     "output_type": "display_data"
    },
    {
     "data": {
      "text/plain": [
       "'蔡欣汝\\n'"
      ]
     },
     "metadata": {},
     "output_type": "display_data"
    },
    {
     "data": {
      "text/plain": [
       "'王良斌\\n'"
      ]
     },
     "metadata": {},
     "output_type": "display_data"
    },
    {
     "data": {
      "text/plain": [
       "'周家銘\\n'"
      ]
     },
     "metadata": {},
     "output_type": "display_data"
    },
    {
     "data": {
      "text/plain": [
       "'張凱妮\\n'"
      ]
     },
     "metadata": {},
     "output_type": "display_data"
    },
    {
     "data": {
      "text/plain": [
       "'鄭淑珍\\n'"
      ]
     },
     "metadata": {},
     "output_type": "display_data"
    },
    {
     "data": {
      "text/plain": [
       "'陳嘉淑\\n'"
      ]
     },
     "metadata": {},
     "output_type": "display_data"
    },
    {
     "data": {
      "text/plain": [
       "'魏秋萍\\n'"
      ]
     },
     "metadata": {},
     "output_type": "display_data"
    },
    {
     "data": {
      "text/plain": [
       "'簡佳樺\\n'"
      ]
     },
     "metadata": {},
     "output_type": "display_data"
    },
    {
     "data": {
      "text/plain": [
       "'劉佳佩\\n'"
      ]
     },
     "metadata": {},
     "output_type": "display_data"
    },
    {
     "data": {
      "text/plain": [
       "'李彥伸\\n'"
      ]
     },
     "metadata": {},
     "output_type": "display_data"
    },
    {
     "data": {
      "text/plain": [
       "'陳筱涵\\n'"
      ]
     },
     "metadata": {},
     "output_type": "display_data"
    },
    {
     "data": {
      "text/plain": [
       "'蔡明平\\n'"
      ]
     },
     "metadata": {},
     "output_type": "display_data"
    },
    {
     "data": {
      "text/plain": [
       "'王展人\\n'"
      ]
     },
     "metadata": {},
     "output_type": "display_data"
    },
    {
     "data": {
      "text/plain": [
       "'方筠紹\\n'"
      ]
     },
     "metadata": {},
     "output_type": "display_data"
    },
    {
     "data": {
      "text/plain": [
       "'陳志偉\\n'"
      ]
     },
     "metadata": {},
     "output_type": "display_data"
    },
    {
     "data": {
      "text/plain": [
       "'錢佩豪\\n'"
      ]
     },
     "metadata": {},
     "output_type": "display_data"
    },
    {
     "data": {
      "text/plain": [
       "'陳冠霞\\n'"
      ]
     },
     "metadata": {},
     "output_type": "display_data"
    },
    {
     "data": {
      "text/plain": [
       "'潘英迪\\n'"
      ]
     },
     "metadata": {},
     "output_type": "display_data"
    },
    {
     "data": {
      "text/plain": [
       "'陳冠竹\\n'"
      ]
     },
     "metadata": {},
     "output_type": "display_data"
    },
    {
     "data": {
      "text/plain": [
       "'李淑芳\\n'"
      ]
     },
     "metadata": {},
     "output_type": "display_data"
    },
    {
     "data": {
      "text/plain": [
       "'謝南慧\\n'"
      ]
     },
     "metadata": {},
     "output_type": "display_data"
    },
    {
     "data": {
      "text/plain": [
       "'趙家豪\\n'"
      ]
     },
     "metadata": {},
     "output_type": "display_data"
    },
    {
     "data": {
      "text/plain": [
       "'龐皓芳\\n'"
      ]
     },
     "metadata": {},
     "output_type": "display_data"
    },
    {
     "data": {
      "text/plain": [
       "'張彥博'"
      ]
     },
     "metadata": {},
     "output_type": "display_data"
    }
   ],
   "source": [
    "with open(\"names.txt\",encoding=\"utf_8\") as file:\n",
    "    for name in file:\n",
    "        display(name)"
   ]
  },
  {
   "cell_type": "code",
   "execution_count": 7,
   "metadata": {},
   "outputs": [
    {
     "data": {
      "text/plain": [
       "['陳怡伶',\n",
       " '馮芳如',\n",
       " '蒙淑惠',\n",
       " '張軒宸',\n",
       " '陳向愛',\n",
       " '賴心怡',\n",
       " '王怡珊',\n",
       " '林詠斌',\n",
       " '陳淑娟',\n",
       " '崔孝憲',\n",
       " '林希啟',\n",
       " '楊韋廷',\n",
       " '陳文賢',\n",
       " '王士銘',\n",
       " '賴昌韻',\n",
       " '黃名明',\n",
       " '吳麗卿',\n",
       " '游治旺',\n",
       " '蔡嘉音',\n",
       " '黃靜怡',\n",
       " '黃淑芬',\n",
       " '龔姵君',\n",
       " '景歡燦',\n",
       " '李政成',\n",
       " '楊綺芬',\n",
       " '昌嘉洋',\n",
       " '李慈啟',\n",
       " '游倫城',\n",
       " '林淑安',\n",
       " '蔡士賢',\n",
       " '林世城',\n",
       " '林佳蓉',\n",
       " '柯宜臻',\n",
       " '傅佳琳',\n",
       " '林瑞喬',\n",
       " '林佳慧',\n",
       " '鍾俞禎',\n",
       " '劉慧君',\n",
       " '劉林中',\n",
       " '林怡偉',\n",
       " '余丞苓',\n",
       " '黃佩玲',\n",
       " '林建宏',\n",
       " '方雅慧',\n",
       " '林柏洋',\n",
       " '郭舜昇',\n",
       " '艾巧夫',\n",
       " '童建霖',\n",
       " '蔡至剛',\n",
       " '黃心航',\n",
       " '張凡成',\n",
       " '郭淑枝',\n",
       " '黃必琪',\n",
       " '楊健麟',\n",
       " '林建勳',\n",
       " '鄭琇亞',\n",
       " '王雅琴',\n",
       " '李美洋',\n",
       " '楊少亮',\n",
       " '王泓泰',\n",
       " '黃江旭',\n",
       " '王梅劭',\n",
       " '林佳光',\n",
       " '盧必妍',\n",
       " '林思賢',\n",
       " '鄧哲榮',\n",
       " '陳家年',\n",
       " '張俊傑',\n",
       " '洪阿惠',\n",
       " '陳彥治',\n",
       " '盧冠發',\n",
       " '程玫靖',\n",
       " '潘俊賢',\n",
       " '呂傑宣',\n",
       " '鄭孟芳',\n",
       " '彭茹靖',\n",
       " '王孝純',\n",
       " '吳昕婷',\n",
       " '朱惠儀',\n",
       " '盧文啟',\n",
       " '謝佳穎',\n",
       " '鄭憲定',\n",
       " '馮淑芬',\n",
       " '聶心怡',\n",
       " '黃志福',\n",
       " '馬彥文',\n",
       " '郭淑真',\n",
       " '吳欣書',\n",
       " '鄭佳玲',\n",
       " '黃健發',\n",
       " '胡姿婷',\n",
       " '林義皓',\n",
       " '胡芳瑜',\n",
       " '楊易政',\n",
       " '王德城',\n",
       " '劉依婷',\n",
       " '吳俐芷',\n",
       " '黃詩妃',\n",
       " '柯韋成',\n",
       " '鄧亭聿',\n",
       " '王雅慧',\n",
       " '陳凱翔',\n",
       " '藍哲嘉',\n",
       " '趙偉銘',\n",
       " '張韋成',\n",
       " '林向鈺',\n",
       " '周琬婷',\n",
       " '尚偉倫',\n",
       " '賴佳雯',\n",
       " '陳姵彬',\n",
       " '林群清',\n",
       " '趙家豪',\n",
       " '李政白',\n",
       " '林俊翔',\n",
       " '李進慧',\n",
       " '楊韻如',\n",
       " '藍姿婷',\n",
       " '劉嘉泰',\n",
       " '王柏聖',\n",
       " '孫宜珊',\n",
       " '戴萱能',\n",
       " '高士凱',\n",
       " '楊又源',\n",
       " '劉昀天',\n",
       " '王怡君',\n",
       " '余月修',\n",
       " '劉萬季',\n",
       " '陳信宏',\n",
       " '陳孝邦',\n",
       " '朱彥志',\n",
       " '陳奇瑄',\n",
       " '鄧淑娟',\n",
       " '陳逸凡',\n",
       " '張牧聿',\n",
       " '唐雪豪',\n",
       " '林康亮',\n",
       " '黃旻林',\n",
       " '蕭淑華',\n",
       " '劉雯芬',\n",
       " '陳美惠',\n",
       " '孫火清',\n",
       " '溫法堯',\n",
       " '錢欣潔',\n",
       " '陳倩潔',\n",
       " '李雅怡',\n",
       " '白美珍',\n",
       " '葉志峰',\n",
       " '黃佩芬',\n",
       " '黃麗美',\n",
       " '黃奎紹',\n",
       " '邱亭君',\n",
       " '詹忠光',\n",
       " '戚亨',\n",
       " '賴又琦',\n",
       " '林佳人',\n",
       " '黃善迪',\n",
       " '賴苑禾',\n",
       " '溫重意',\n",
       " '周怡啟',\n",
       " '王明昇',\n",
       " '羅佩樺',\n",
       " '陳家維',\n",
       " '張莉雯',\n",
       " '高俊男',\n",
       " '林冠蕙',\n",
       " '王品星',\n",
       " '吳孟穎',\n",
       " '黃雅慧',\n",
       " '馮耀中',\n",
       " '元延辛',\n",
       " '王坤安',\n",
       " '陳慧君',\n",
       " '張伊映',\n",
       " '林士凱',\n",
       " '蘇婷婷',\n",
       " '陳淑萍',\n",
       " '林玉佩',\n",
       " '謝貞妃',\n",
       " '杜儀鳳',\n",
       " '陳倩妮',\n",
       " '胡淑貞',\n",
       " '楊偉翔',\n",
       " '姜琬婷',\n",
       " '張雅芬',\n",
       " '葉祖雄',\n",
       " '沈心利',\n",
       " '彭虹屏',\n",
       " '余宗儒',\n",
       " '李立偉',\n",
       " '臧怡君',\n",
       " '吳振瑋',\n",
       " '陳建豪',\n",
       " '蕭怡伶',\n",
       " '周芷蓁',\n",
       " '黃偉剛',\n",
       " '黃婷婷',\n",
       " '郎慧萍',\n",
       " '林昱芳',\n",
       " '趙宛真',\n",
       " '白世宏',\n",
       " '杜明延',\n",
       " '許淑婷',\n",
       " '林珍旺',\n",
       " '蔡孟泉',\n",
       " '吳晴洋',\n",
       " '游一鈺',\n",
       " '朱士弘',\n",
       " '黃政甫',\n",
       " '游淑惠',\n",
       " '張婕妤',\n",
       " '陳逸華',\n",
       " '張天亨',\n",
       " '張嘉韋',\n",
       " '王志謙',\n",
       " '黎惠雯',\n",
       " '高信宏',\n",
       " '梁柏宇',\n",
       " '林志喜',\n",
       " '金宜芳',\n",
       " '簡國瑋',\n",
       " '林清英',\n",
       " '黃彥孝',\n",
       " '鄭奇翰',\n",
       " '李慶亮',\n",
       " '李蓉瑞',\n",
       " '張明惟',\n",
       " '游詩亞',\n",
       " '黃嘉琪',\n",
       " '張家秀',\n",
       " '吳柏誠',\n",
       " '陳得映',\n",
       " '郭致恬',\n",
       " '林麗萍',\n",
       " '陳樂紫',\n",
       " '翁鈺婷',\n",
       " '蔡世馨',\n",
       " '楊建安',\n",
       " '李湘婷',\n",
       " '鞠冠宇',\n",
       " '林志成',\n",
       " '陳信念',\n",
       " '林益妏',\n",
       " '蔡偉成',\n",
       " '王惠皓',\n",
       " '王筱婷',\n",
       " '楊火帆',\n",
       " '陳怡珊',\n",
       " '張慧君',\n",
       " '翁羽威',\n",
       " '羅幸娥',\n",
       " '陳俊憲',\n",
       " '洪奎夫',\n",
       " '翁均安',\n",
       " '吳明妮',\n",
       " '高智超',\n",
       " '王人仰',\n",
       " '劉旭士',\n",
       " '蘇凡菁',\n",
       " '謝哲維',\n",
       " '彭偉妃',\n",
       " '劉耿琦',\n",
       " '黃柏宇',\n",
       " '李佳彥',\n",
       " '唐翊修',\n",
       " '陳建香',\n",
       " '葉軍仰',\n",
       " '吳志宣',\n",
       " '林珈發',\n",
       " '黃翔杰',\n",
       " '郭坤花',\n",
       " '吳淑惠',\n",
       " '簡美君',\n",
       " '許芳如',\n",
       " '謝水儒',\n",
       " '陳怡容',\n",
       " '蔡欣汝',\n",
       " '王良斌',\n",
       " '周家銘',\n",
       " '張凱妮',\n",
       " '鄭淑珍',\n",
       " '陳嘉淑',\n",
       " '魏秋萍',\n",
       " '簡佳樺',\n",
       " '劉佳佩',\n",
       " '李彥伸',\n",
       " '陳筱涵',\n",
       " '蔡明平',\n",
       " '王展人',\n",
       " '方筠紹',\n",
       " '陳志偉',\n",
       " '錢佩豪',\n",
       " '陳冠霞',\n",
       " '潘英迪',\n",
       " '陳冠竹',\n",
       " '李淑芳',\n",
       " '謝南慧',\n",
       " '趙家豪',\n",
       " '龐皓芳',\n",
       " '張彥博']"
      ]
     },
     "execution_count": 7,
     "metadata": {},
     "output_type": "execute_result"
    }
   ],
   "source": [
    "with open(\"names.txt\",encoding=\"utf_8\") as file:\n",
    "    names = []\n",
    "    for name in file:\n",
    "        names.append(name.rstrip())\n",
    "names"
   ]
  },
  {
   "cell_type": "code",
   "execution_count": 8,
   "metadata": {},
   "outputs": [
    {
     "data": {
      "text/plain": [
       "['陳志偉', '錢佩豪', '陳冠霞', '潘英迪', '陳冠竹', '李淑芳', '謝南慧', '趙家豪', '龐皓芳', '張彥博']"
      ]
     },
     "execution_count": 8,
     "metadata": {},
     "output_type": "execute_result"
    }
   ],
   "source": [
    "with open(\"names.txt\",encoding=\"utf_8\") as file:\n",
    "    names = []\n",
    "    for name in file:\n",
    "        names.append(name.rstrip())\n",
    "names[-10:]"
   ]
  },
  {
   "cell_type": "code",
   "execution_count": 12,
   "metadata": {},
   "outputs": [
    {
     "name": "stdout",
     "output_type": "stream",
     "text": [
      "請輸入要取得的名字數量:Number must be at maximum 50.\n",
      "請輸入要取得的名字數量:5\n"
     ]
    },
    {
     "data": {
      "text/plain": [
       "['林康亮', '羅幸娥', '周芷蓁', '聶心怡', '林柏洋']"
      ]
     },
     "execution_count": 12,
     "metadata": {},
     "output_type": "execute_result"
    }
   ],
   "source": [
    "import pyinputplus as pyip\n",
    "import random\n",
    "\n",
    "with open(\"names.txt\",encoding=\"utf_8\") as file:\n",
    "    names = []\n",
    "    for name in file:\n",
    "        names.append(name.rstrip())\n",
    "\n",
    "num = pyip.inputInt(\"請輸入要取得的名字數量:\",min=0,max=50)\n",
    "print(num)\n",
    "random.choices(names,k=num)\n"
   ]
  },
  {
   "cell_type": "code",
   "execution_count": 16,
   "metadata": {},
   "outputs": [
    {
     "name": "stdout",
     "output_type": "stream",
     "text": [
      "請輸入要取得的名字數量:"
     ]
    },
    {
     "data": {
      "text/plain": [
       "['劉依婷', '羅幸娥', '吳晴洋', '賴苑禾', '王人仰']"
      ]
     },
     "execution_count": 16,
     "metadata": {},
     "output_type": "execute_result"
    }
   ],
   "source": [
    "import random\n",
    "import pyinputplus as pyip\n",
    "\n",
    "def generate_stu():\n",
    "    scores = []\n",
    "    for _ in range(5):\n",
    "        scores.append(random.randint(50,100))\n",
    "    return scores\n",
    "\n",
    "def getNames(num:int) -> list[str]:\n",
    "    with open(\"names.txt\",encoding=\"utf_8\") as file:\n",
    "        names = []\n",
    "        for name in file:\n",
    "            names.append(name.rstrip())\n",
    "    return random.choices(names,k=num) \n",
    "\n",
    "n = pyip.inputInt(\"請輸入要取得的名字數量:\",min=0,max=50)\n",
    "getNames(num=n)"
   ]
  },
  {
   "cell_type": "code",
   "execution_count": 17,
   "metadata": {},
   "outputs": [],
   "source": [
    "import random\n",
    "import pyinputplus as pyip\n",
    "\n",
    "def generate_stu():\n",
    "    scores = []\n",
    "    for _ in range(5):\n",
    "        scores.append(random.randint(50,100))\n",
    "    return scores\n",
    "\n",
    "def getNames(num:int) -> list[str]:\n",
    "    with open(\"names.txt\",encoding=\"utf_8\") as file:\n",
    "        names = []\n",
    "        for name in file:\n",
    "             names.append(name.rstrip())\n",
    "    return random.choices(names,k=num) "
   ]
  },
  {
   "cell_type": "code",
   "execution_count": 20,
   "metadata": {},
   "outputs": [
    {
     "name": "stdout",
     "output_type": "stream",
     "text": [
      "請輸入學生的人數:10\n"
     ]
    },
    {
     "data": {
      "text/plain": [
       "[['林珍旺', 90, 85, 91, 76, 66],\n",
       " ['羅幸娥', 64, 78, 99, 60, 52],\n",
       " ['鄧亭聿', 67, 97, 83, 50, 65],\n",
       " ['林建勳', 88, 56, 62, 79, 54],\n",
       " ['蔡欣汝', 92, 85, 94, 64, 88],\n",
       " ['賴苑禾', 100, 59, 74, 100, 68],\n",
       " ['王志謙', 70, 97, 91, 90, 87],\n",
       " ['黃佩玲', 57, 96, 93, 85, 84],\n",
       " ['黃佩芬', 73, 66, 87, 59, 96],\n",
       " ['謝水儒', 87, 91, 62, 75, 70]]"
      ]
     },
     "execution_count": 20,
     "metadata": {},
     "output_type": "execute_result"
    }
   ],
   "source": [
    "import pyinputplus as pyip\n",
    "\n",
    "num = pyip.inputInt('請輸入學生的人數:')\n",
    "print(num)\n",
    "names = getNames(num=num) #建立學生姓名的list\n",
    "students = []\n",
    "for i in range(num):\n",
    "    scores = generate_stu() #建立學生的5個分數\n",
    "    scores.insert(0,names[i]) #將學生姓名加入至list內\n",
    "    students.append(scores)\n",
    "\n",
    "students"
   ]
  }
 ],
 "metadata": {
  "kernelspec": {
   "display_name": "Python 3",
   "language": "python",
   "name": "python3"
  },
  "language_info": {
   "codemirror_mode": {
    "name": "ipython",
    "version": 3
   },
   "file_extension": ".py",
   "mimetype": "text/x-python",
   "name": "python",
   "nbconvert_exporter": "python",
   "pygments_lexer": "ipython3",
   "version": "3.10.12"
  },
  "orig_nbformat": 4
 },
 "nbformat": 4,
 "nbformat_minor": 2
}
