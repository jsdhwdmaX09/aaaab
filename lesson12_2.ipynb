{
 "cells": [
  {
   "cell_type": "code",
   "execution_count": 2,
   "metadata": {},
   "outputs": [
    {
     "name": "stdout",
     "output_type": "stream",
     "text": [
      "輸入錯誤\n"
     ]
    }
   ],
   "source": [
    "try:\n",
    "    nums = int(input(\"請輸入整數:\"))\n",
    "except ValueError:\n",
    "    print(\"輸入錯誤\")\n",
    "else:\n",
    "    print(nums)"
   ]
  },
  {
   "cell_type": "code",
   "execution_count": 6,
   "metadata": {},
   "outputs": [
    {
     "name": "stdout",
     "output_type": "stream",
     "text": [
      "123\n"
     ]
    }
   ],
   "source": [
    "import pyinputplus\n",
    "name = pyinputplus.inputStr()\n",
    "print(name)"
   ]
  },
  {
   "cell_type": "code",
   "execution_count": 9,
   "metadata": {},
   "outputs": [
    {
     "name": "stdout",
     "output_type": "stream",
     "text": [
      "請輸入整數:'123a' is not a number.\n",
      "請輸入整數:'123b' is not a number.\n",
      "請輸入整數:54\n"
     ]
    }
   ],
   "source": [
    "import pyinputplus as pyip\n",
    "nums = pyip.inputNum(\"請輸入整數:\")\n",
    "print(nums)"
   ]
  },
  {
   "cell_type": "code",
   "execution_count": null,
   "metadata": {},
   "outputs": [],
   "source": [
    "empty_set = {} #這是建立dictionary\n",
    "type(empty_set)"
   ]
  },
  {
   "cell_type": "code",
   "execution_count": 11,
   "metadata": {},
   "outputs": [
    {
     "data": {
      "text/plain": [
       "{0, 2, 4, 6, 8, 10}"
      ]
     },
     "execution_count": 11,
     "metadata": {},
     "output_type": "execute_result"
    }
   ],
   "source": [
    "even_numbers = {0,2,4,6,8,10,0,2,4,6,8,10}\n",
    "even_numbers"
   ]
  },
  {
   "cell_type": "code",
   "execution_count": 12,
   "metadata": {},
   "outputs": [
    {
     "data": {
      "text/plain": [
       "{0, 2, 4, 6, 8, 10, 12}"
      ]
     },
     "execution_count": 12,
     "metadata": {},
     "output_type": "execute_result"
    }
   ],
   "source": [
    "even_numbers = {0,2,4,6,8,10,0,2,4,6,8,10}\n",
    "even_numbers.add(12)\n",
    "even_numbers"
   ]
  },
  {
   "cell_type": "code",
   "execution_count": 16,
   "metadata": {},
   "outputs": [
    {
     "data": {
      "text/plain": [
       "1"
      ]
     },
     "execution_count": 16,
     "metadata": {},
     "output_type": "execute_result"
    }
   ],
   "source": [
    "#撰寫一個大樂透電腦自動選號程式，程式執行會以亂數的方式顯示1-49之間七個不重複的大樂透號碼。\n",
    "import random\n",
    "lotos = set()\n",
    "lotos.add(random.randint(1,49))\n",
    "len(lotos)"
   ]
  },
  {
   "cell_type": "code",
   "execution_count": 17,
   "metadata": {},
   "outputs": [
    {
     "data": {
      "text/plain": [
       "1"
      ]
     },
     "execution_count": 17,
     "metadata": {},
     "output_type": "execute_result"
    }
   ],
   "source": [
    "import random\n",
    "lotos = set()\n",
    "lotos.add(34)\n",
    "lotos.add(34)\n",
    "lotos.add(34)\n",
    "len(lotos)"
   ]
  },
  {
   "cell_type": "code",
   "execution_count": 21,
   "metadata": {},
   "outputs": [
    {
     "name": "stdout",
     "output_type": "stream",
     "text": [
      "{32, 34, 4, 46, 48, 18, 31}\n"
     ]
    }
   ],
   "source": [
    "#撰寫一個大樂透電腦自動選號程式，程式執行會以亂數的方式顯示1-49之間七個不重複的大樂透號碼。\n",
    "import random\n",
    "lotos = set()\n",
    "while len(lotos) < 7:\n",
    "    lotos.add(random.randint(1,49))\n",
    "\n",
    "print(lotos)"
   ]
  },
  {
   "cell_type": "code",
   "execution_count": 22,
   "metadata": {},
   "outputs": [
    {
     "name": "stdout",
     "output_type": "stream",
     "text": [
      "本期大樂透電腦選號號碼如下:\n",
      "36 37 42 47 15 18 \n",
      "特別號:19\n"
     ]
    }
   ],
   "source": [
    "#撰寫一個大樂透電腦自動選號程式，程式執行會以亂數的方式顯示1-49之間七個不重複的大樂透號碼。\n",
    "import random\n",
    "lotos = set()\n",
    "while len(lotos) < 7:\n",
    "    lotos.add(random.randint(1,49))\n",
    "\n",
    "lotos_list = list(lotos)\n",
    "lotos_list\n",
    "\n",
    "print(\"本期大樂透電腦選號號碼如下:\")\n",
    "for num in lotos_list[:6]:\n",
    "    print(num,end=\" \")\n",
    "print()\n",
    "print(f\"特別號:{lotos_list[-1]}\")\n"
   ]
  },
  {
   "cell_type": "code",
   "execution_count": 25,
   "metadata": {},
   "outputs": [
    {
     "name": "stdout",
     "output_type": "stream",
     "text": [
      "請輸入電腦選號的組數:(最多10組)Number must be at maximum 10.\n",
      "請輸入電腦選號的組數:(最多10組)需要5組\n"
     ]
    }
   ],
   "source": [
    "import pyinputplus as pyip\n",
    "num = pyip.inputInt(\"請輸入電腦選號的組數:(最多10組)\",max=10)\n",
    "print(f'需要{num}組')"
   ]
  },
  {
   "cell_type": "code",
   "execution_count": 26,
   "metadata": {},
   "outputs": [
    {
     "name": "stdout",
     "output_type": "stream",
     "text": [
      "請輸入電腦選號的組數:(最多10組)本期大樂透電腦選號號碼如下:\n",
      "第1組\n",
      "37 41 12 48 25 27 \n",
      "特別號:28\n",
      "\n",
      "第2組\n",
      "3 5 7 42 11 16 \n",
      "特別號:31\n",
      "\n",
      "第3組\n",
      "32 2 36 40 10 48 \n",
      "特別號:28\n",
      "\n",
      "第4組\n",
      "2 34 4 21 23 26 \n",
      "特別號:27\n",
      "\n",
      "第5組\n",
      "35 37 6 11 27 28 \n",
      "特別號:29\n",
      "\n"
     ]
    }
   ],
   "source": [
    "import pyinputplus as pyip\n",
    "\n",
    "def generate_lotos() -> list:\n",
    "    lotos = set()\n",
    "    while len(lotos) < 7:\n",
    "        lotos.add(random.randint(1,49))\n",
    "\n",
    "    return list(lotos)\n",
    "\n",
    "\n",
    "num = pyip.inputInt(\"請輸入電腦選號的組數:(最多10組)\",max=10)\n",
    "print(\"本期大樂透電腦選號號碼如下:\")\n",
    "for i in range(num):\n",
    "    print(f'第{i+1}組')\n",
    "    lotos_list = generate_lotos()\n",
    "    for num in lotos_list[:6]:\n",
    "        print(num,end=\" \")\n",
    "    print()\n",
    "    print(f\"特別號:{lotos_list[-1]}\\n\")\n",
    "    "
   ]
  }
 ],
 "metadata": {
  "kernelspec": {
   "display_name": "Python 3",
   "language": "python",
   "name": "python3"
  },
  "language_info": {
   "codemirror_mode": {
    "name": "ipython",
    "version": 3
   },
   "file_extension": ".py",
   "mimetype": "text/x-python",
   "name": "python",
   "nbconvert_exporter": "python",
   "pygments_lexer": "ipython3",
   "version": "3.10.12"
  },
  "orig_nbformat": 4
 },
 "nbformat": 4,
 "nbformat_minor": 2
}
