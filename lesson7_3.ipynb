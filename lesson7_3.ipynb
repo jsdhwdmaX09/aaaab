{
 "cells": [
  {
   "cell_type": "code",
   "execution_count": 2,
   "metadata": {},
   "outputs": [],
   "source": [
    "#自訂的class\n",
    "class Student:\n",
    "    pass"
   ]
  },
  {
   "cell_type": "code",
   "execution_count": 5,
   "metadata": {},
   "outputs": [
    {
     "name": "stdout",
     "output_type": "stream",
     "text": [
      "<__main__.Student object at 0x7f10904e8190>\n",
      "<__main__.Student object at 0x7f10904e9540>\n",
      "<__main__.Student object at 0x7f10904eab30>\n"
     ]
    }
   ],
   "source": [
    "stu1 = Student()\n",
    "print(stu1)\n",
    "\n",
    "stu2 = Student()\n",
    "print(stu2)\n",
    "\n",
    "stu3 = Student()\n",
    "print(stu3)"
   ]
  },
  {
   "cell_type": "code",
   "execution_count": 11,
   "metadata": {},
   "outputs": [],
   "source": [
    "def student_info(student):\n",
    "    print(\"name:\",student.name)\n",
    "    print(\"chinese:\",student.chinese)\n",
    "    print(\"english:\",student.english)\n",
    "    print(\"math:\",student.math)"
   ]
  },
  {
   "cell_type": "code",
   "execution_count": 12,
   "metadata": {},
   "outputs": [
    {
     "name": "stdout",
     "output_type": "stream",
     "text": [
      "name: 王芷葳\n",
      "chinese: 87\n",
      "english: 38\n",
      "math: 92\n"
     ]
    }
   ],
   "source": [
    "stu1.name = \"王芷葳\"\n",
    "stu1.chinese = 87\n",
    "stu1.english = 38\n",
    "stu1.math = 92\n",
    "\n",
    "student_info(stu1)"
   ]
  },
  {
   "cell_type": "code",
   "execution_count": 13,
   "metadata": {},
   "outputs": [
    {
     "name": "stdout",
     "output_type": "stream",
     "text": [
      "name: 張xx\n",
      "chinese: 78\n",
      "english: 90\n",
      "math: 33\n"
     ]
    }
   ],
   "source": [
    "stu2.name = \"張xx\"\n",
    "stu2.chinese = 78\n",
    "stu2.english = 90\n",
    "stu2.math = 33\n",
    "\n",
    "student_info(stu2)"
   ]
  },
  {
   "cell_type": "code",
   "execution_count": 14,
   "metadata": {},
   "outputs": [
    {
     "name": "stdout",
     "output_type": "stream",
     "text": [
      "name: 汪xx\n",
      "chinese: 86\n",
      "english: 56\n",
      "math: 63\n"
     ]
    }
   ],
   "source": [
    "stu3.name = \"汪xx\"\n",
    "stu3.chinese = 86\n",
    "stu3.english = 56\n",
    "stu3.math = 63\n",
    "\n",
    "student_info(stu3)"
   ]
  },
  {
   "cell_type": "code",
   "execution_count": null,
   "metadata": {},
   "outputs": [],
   "source": []
  }
 ],
 "metadata": {
  "kernelspec": {
   "display_name": "Python 3",
   "language": "python",
   "name": "python3"
  },
  "language_info": {
   "codemirror_mode": {
    "name": "ipython",
    "version": 3
   },
   "file_extension": ".py",
   "mimetype": "text/x-python",
   "name": "python",
   "nbconvert_exporter": "python",
   "pygments_lexer": "ipython3",
   "version": "3.10.12"
  },
  "orig_nbformat": 4
 },
 "nbformat": 4,
 "nbformat_minor": 2
}
