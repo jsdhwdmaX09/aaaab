{
 "cells": [
  {
   "cell_type": "code",
   "execution_count": 2,
   "metadata": {},
   "outputs": [],
   "source": [
    "#自訂的class\n",
    "class Student:\n",
    "    pass"
   ]
  },
  {
   "cell_type": "code",
   "execution_count": 5,
   "metadata": {},
   "outputs": [
    {
     "name": "stdout",
     "output_type": "stream",
     "text": [
      "<__main__.Student object at 0x7f10904e8190>\n",
      "<__main__.Student object at 0x7f10904e9540>\n",
      "<__main__.Student object at 0x7f10904eab30>\n"
     ]
    }
   ],
   "source": [
    "stu1 = Student()\n",
    "print(stu1)\n",
    "\n",
    "stu2 = Student()\n",
    "print(stu2)\n",
    "\n",
    "stu3 = Student()\n",
    "print(stu3)"
   ]
  },
  {
   "cell_type": "code",
   "execution_count": 11,
   "metadata": {},
   "outputs": [],
   "source": [
    "def student_info(student):\n",
    "    print(\"name:\",student.name)\n",
    "    print(\"chinese:\",student.chinese)\n",
    "    print(\"english:\",student.english)\n",
    "    print(\"math:\",student.math)"
   ]
  },
  {
   "cell_type": "code",
   "execution_count": 12,
   "metadata": {},
   "outputs": [
    {
     "name": "stdout",
     "output_type": "stream",
     "text": [
      "name: 王芷葳\n",
      "chinese: 87\n",
      "english: 38\n",
      "math: 92\n"
     ]
    }
   ],
   "source": [
    "stu1.name = \"王芷葳\"\n",
    "stu1.chinese = 87\n",
    "stu1.english = 38\n",
    "stu1.math = 92\n",
    "\n",
    "student_info(stu1)"
   ]
  },
  {
   "cell_type": "code",
   "execution_count": 16,
   "metadata": {},
   "outputs": [
    {
     "name": "stdout",
     "output_type": "stream",
     "text": [
      "name: 張xx\n",
      "chinese: 78\n",
      "english: 90\n",
      "math: 33\n"
     ]
    }
   ],
   "source": [
    "stu2.name = \"張xx\"\n",
    "stu2.chinese = 78\n",
    "stu2.english = 90\n",
    "stu2.math = 33\n",
    "\n",
    "student_info(stu2)"
   ]
  },
  {
   "cell_type": "code",
   "execution_count": 14,
   "metadata": {},
   "outputs": [
    {
     "name": "stdout",
     "output_type": "stream",
     "text": [
      "name: 汪xx\n",
      "chinese: 86\n",
      "english: 56\n",
      "math: 63\n"
     ]
    }
   ],
   "source": [
    "stu3.name = \"汪xx\"\n",
    "stu3.chinese = 86\n",
    "stu3.english = 56\n",
    "stu3.math = 63\n",
    "\n",
    "student_info(stu3)"
   ]
  },
  {
   "cell_type": "code",
   "execution_count": 25,
   "metadata": {},
   "outputs": [],
   "source": [
    "#自訂的class\n",
    "class Student:\n",
    "    def __init__(self,n,c,e,m): #自訂的初始化\n",
    "        self.name = n\n",
    "        self.chinese = c\n",
    "        self.english = e\n",
    "        self.math = m"
   ]
  },
  {
   "cell_type": "code",
   "execution_count": 19,
   "metadata": {},
   "outputs": [],
   "source": [
    "#實體的方法\n",
    "def student_info(student):\n",
    "    print(\"name:\",student.name)\n",
    "    print(\"chinese:\",student.chinese)\n",
    "    print(\"english:\",student.english)\n",
    "    print(\"math:\",student.math)"
   ]
  },
  {
   "cell_type": "code",
   "execution_count": 28,
   "metadata": {},
   "outputs": [
    {
     "name": "stdout",
     "output_type": "stream",
     "text": [
      "name: 王芷葳\n",
      "chinese: 78\n",
      "english: 92\n",
      "math: 65\n",
      "=============\n",
      "name: 張xx\n",
      "chinese: 65\n",
      "english: 56\n",
      "math: 95\n",
      "=============\n",
      "name: 王xx\n",
      "chinese: 92\n",
      "english: 86\n",
      "math: 75\n",
      "=============\n"
     ]
    }
   ],
   "source": [
    "stu1 = Student(n=\"王芷葳\",c=78,e=92,m=65)\n",
    "student_info(stu1)\n",
    "print(\"=============\")\n",
    "\n",
    "stu2 = Student(n=\"張xx\",c=65,e=56,m=95)\n",
    "student_info(stu2)\n",
    "print(\"=============\")\n",
    "\n",
    "stu3 = Student(n=\"王xx\",c=92,e=86,m=75)\n",
    "student_info(stu3)\n",
    "print(\"=============\")"
   ]
  },
  {
   "cell_type": "code",
   "execution_count": 54,
   "metadata": {},
   "outputs": [],
   "source": [
    "#自訂的class\n",
    "class Student:\n",
    "    def __init__(self,n,c,e,m): #自訂的初始化\n",
    "        self.name = n #attribute屬性\n",
    "        self.chinese = c\n",
    "        self.english = e\n",
    "        self.math = m\n",
    "\n",
    "    #實體的方法\n",
    "    def student_info(self):\n",
    "        print(\"name:\",self.name)\n",
    "        print(\"chinese:\",self.chinese)\n",
    "        print(\"english:\",self.english)\n",
    "        print(\"math\",self.math)\n",
    "\n",
    "    #實體的方法\n",
    "    def sum(self):\n",
    "        return self.chinese + self.english + self.math\n",
    "    \n",
    "    #實體方法\n",
    "    def average(self):\n",
    "        return self.sum() / 3.0\n",
    "    \n",
    "    #overwrite內建的__repr__(self)\n",
    "    def __repr__(self):\n",
    "        return f\"這是Student的實體\\n學生姓名是{self.name}\""
   ]
  },
  {
   "cell_type": "code",
   "execution_count": 55,
   "metadata": {},
   "outputs": [
    {
     "name": "stdout",
     "output_type": "stream",
     "text": [
      "name: 林xx\n",
      "chinese: 78\n",
      "english: 92\n",
      "math 65\n",
      "總分: 235\n",
      "平均: 78.33333333333333\n",
      "這是Student的實體\n",
      "學生姓名是林xx\n",
      "=============\n",
      "name: 張xx\n",
      "chinese: 65\n",
      "english: 56\n",
      "math 95\n",
      "總分: 216\n",
      "平均: 72.0\n",
      "這是Student的實體\n",
      "學生姓名是張xx\n",
      "=============\n",
      "name: 王xx\n",
      "chinese: 92\n",
      "english: 86\n",
      "math 75\n",
      "總分: 253\n",
      "平均: 84.33333333333333\n",
      "這是Student的實體\n",
      "學生姓名是王xx\n",
      "=============\n"
     ]
    }
   ],
   "source": [
    "stu1 = Student(n=\"林xx\",c=78,e=92,m=65)\n",
    "stu1.student_info()\n",
    "print(\"總分:\",stu1.sum())\n",
    "print(\"平均:\",stu1.average())\n",
    "print(stu1)\n",
    "print(\"=============\")\n",
    "\n",
    "stu2 = Student(n=\"張xx\",c=65,e=56,m=95)\n",
    "stu2.student_info()\n",
    "print(\"總分:\",stu2.sum())\n",
    "print(\"平均:\",stu2.average())\n",
    "print(stu2)\n",
    "print(\"=============\")\n",
    "\n",
    "stu3 = Student(n=\"王xx\",c=92,e=86,m=75)\n",
    "stu3.student_info()\n",
    "print(\"總分:\",stu3.sum())\n",
    "print(\"平均:\",stu3.average())\n",
    "print(stu3)\n",
    "print(\"=============\")"
   ]
  }
 ],
 "metadata": {
  "kernelspec": {
   "display_name": "Python 3",
   "language": "python",
   "name": "python3"
  },
  "language_info": {
   "codemirror_mode": {
    "name": "ipython",
    "version": 3
   },
   "file_extension": ".py",
   "mimetype": "text/x-python",
   "name": "python",
   "nbconvert_exporter": "python",
   "pygments_lexer": "ipython3",
   "version": "3.10.12"
  },
  "orig_nbformat": 4
 },
 "nbformat": 4,
 "nbformat_minor": 2
}
