{
 "cells": [
  {
   "cell_type": "code",
   "execution_count": 1,
   "metadata": {},
   "outputs": [
    {
     "data": {
      "text/plain": [
       "5"
      ]
     },
     "execution_count": 1,
     "metadata": {},
     "output_type": "execute_result"
    }
   ],
   "source": [
    "n1 = 5\n",
    "n1 + 5\n",
    "n1"
   ]
  },
  {
   "cell_type": "code",
   "execution_count": 2,
   "metadata": {},
   "outputs": [
    {
     "data": {
      "text/plain": [
       "10"
      ]
     },
     "execution_count": 2,
     "metadata": {},
     "output_type": "execute_result"
    }
   ],
   "source": [
    "n2 = 5\n",
    "n2 = n2 + 5\n",
    "n2"
   ]
  },
  {
   "cell_type": "code",
   "execution_count": 3,
   "metadata": {},
   "outputs": [
    {
     "data": {
      "text/plain": [
       "10"
      ]
     },
     "execution_count": 3,
     "metadata": {},
     "output_type": "execute_result"
    }
   ],
   "source": [
    "n3 = 5\n",
    "n3 += 5\n",
    "n3"
   ]
  },
  {
   "cell_type": "code",
   "execution_count": 4,
   "metadata": {},
   "outputs": [
    {
     "data": {
      "text/plain": [
       "100"
      ]
     },
     "execution_count": 4,
     "metadata": {},
     "output_type": "execute_result"
    }
   ],
   "source": [
    "n3 *= 10\n",
    "n3"
   ]
  },
  {
   "cell_type": "code",
   "execution_count": 5,
   "metadata": {},
   "outputs": [
    {
     "data": {
      "text/plain": [
       "50.0"
      ]
     },
     "execution_count": 5,
     "metadata": {},
     "output_type": "execute_result"
    }
   ],
   "source": [
    "#複合指定運算子\n",
    "n3 /= 2\n",
    "n3"
   ]
  },
  {
   "cell_type": "code",
   "execution_count": 6,
   "metadata": {},
   "outputs": [
    {
     "data": {
      "text/plain": [
       "'Snape'"
      ]
     },
     "metadata": {},
     "output_type": "display_data"
    }
   ],
   "source": [
    "display('Snape')"
   ]
  },
  {
   "cell_type": "code",
   "execution_count": 7,
   "metadata": {},
   "outputs": [
    {
     "name": "stdout",
     "output_type": "stream",
     "text": [
      "Snape\n"
     ]
    }
   ],
   "source": [
    "print('Snape')"
   ]
  },
  {
   "cell_type": "code",
   "execution_count": 9,
   "metadata": {},
   "outputs": [
    {
     "name": "stdout",
     "output_type": "stream",
     "text": [
      "Nay, \"said the naysayer.\n"
     ]
    }
   ],
   "source": [
    "#特殊字元\n",
    "print(\"Nay, \\\"said the naysayer.\")"
   ]
  },
  {
   "cell_type": "code",
   "execution_count": 10,
   "metadata": {},
   "outputs": [
    {
     "name": "stdout",
     "output_type": "stream",
     "text": [
      "您好:\n",
      "王芷葳\t午安\n"
     ]
    }
   ],
   "source": [
    "print(\"您好:\\n王芷葳\\t午安\")"
   ]
  },
  {
   "cell_type": "code",
   "execution_count": 17,
   "metadata": {},
   "outputs": [],
   "source": [
    "#單行文字\n",
    "poem = \"隱隱透出混濁的紋章，桀敖不馴張狂的才能，潮湧‧麻痺·否定·一瞬，阻礙長眠，爬行的鐵之公主，相繼自毀的泥偶，結合·反彈·延伸至地面，知曉自身的無力吧——破道之九十【黑棺】\""
   ]
  },
  {
   "cell_type": "code",
   "execution_count": 18,
   "metadata": {},
   "outputs": [
    {
     "data": {
      "text/plain": [
       "'隱隱透出混濁的紋章，桀敖不馴張狂的才能，\\\\潮湧‧麻痺·否定·一瞬，阻礙長眠，爬行的鐵之公主，相繼自毀的泥偶，結合·反彈·延伸至地面，知曉自身的無力吧——破道之九十【黑棺】'"
      ]
     },
     "execution_count": 18,
     "metadata": {},
     "output_type": "execute_result"
    }
   ],
   "source": [
    "poem"
   ]
  },
  {
   "cell_type": "code",
   "execution_count": 31,
   "metadata": {},
   "outputs": [],
   "source": [
    "#多行文字\n",
    "poem1 = \"\"\"隱隱透出混濁的紋章，桀敖不馴張狂的才能，潮湧‧麻痺·否定·一瞬，阻礙長眠，\n",
    "\n",
    "爬行的鐵之公主，相繼自毀的泥偶，\n",
    "\n",
    "結合·反彈·延伸至地面，知曉自身的無力吧——破道之九十【黑棺】\"\"\""
   ]
  },
  {
   "cell_type": "code",
   "execution_count": 32,
   "metadata": {},
   "outputs": [
    {
     "name": "stdout",
     "output_type": "stream",
     "text": [
      "隱隱透出混濁的紋章，桀敖不馴張狂的才能，潮湧‧麻痺·否定·一瞬，阻礙長眠，\n",
      "\n",
      "爬行的鐵之公主，相繼自毀的泥偶，\n",
      "\n",
      "結合·反彈·延伸至地面，知曉自身的無力吧——破道之九十【黑棺】\n"
     ]
    }
   ],
   "source": [
    "print(poem1)"
   ]
  },
  {
   "cell_type": "code",
   "execution_count": 55,
   "metadata": {},
   "outputs": [],
   "source": [
    "poem2 = \"隱隱透出混濁的紋章，桀敖不馴張狂的才能，潮湧‧麻痺·否定·一瞬，阻礙長眠，\\n爬行的鐵之公主，相繼自毀的泥偶，\\n結合·反彈·延伸至地面，知曉自身的無力吧——破道之九十【黑棺】\\n\""
   ]
  },
  {
   "cell_type": "code",
   "execution_count": 56,
   "metadata": {},
   "outputs": [
    {
     "data": {
      "text/plain": [
       "'隱隱透出混濁的紋章，桀敖不馴張狂的才能，潮湧‧麻痺·否定·一瞬，阻礙長眠，\\n爬行的鐵之公主，相繼自毀的泥偶，\\n結合·反彈·延伸至地面，知曉自身的無力吧——破道之九十【黑棺】\\n'"
      ]
     },
     "execution_count": 56,
     "metadata": {},
     "output_type": "execute_result"
    }
   ],
   "source": [
    "poem2"
   ]
  },
  {
   "cell_type": "code",
   "execution_count": 36,
   "metadata": {},
   "outputs": [
    {
     "name": "stdout",
     "output_type": "stream",
     "text": [
      "我是第1行\n",
      "我是第2行\n",
      "我是第3行\n",
      "\n"
     ]
    }
   ],
   "source": [
    "#字串可以相加的\n",
    "sentence = \"\"\n",
    "sentence += \"我是第1行\\n\"\n",
    "sentence += \"我是第2行\\n\"\n",
    "sentence += \"我是第3行\\n\"\n",
    "print(sentence)"
   ]
  },
  {
   "cell_type": "code",
   "execution_count": 57,
   "metadata": {},
   "outputs": [
    {
     "data": {
      "text/plain": [
       "True"
      ]
     },
     "metadata": {},
     "output_type": "display_data"
    },
    {
     "data": {
      "text/plain": [
       "bool"
      ]
     },
     "metadata": {},
     "output_type": "display_data"
    },
    {
     "data": {
      "text/plain": [
       "False"
      ]
     },
     "metadata": {},
     "output_type": "display_data"
    }
   ],
   "source": [
    "isMan = True\n",
    "display(isMan)\n",
    "display(type(isMan))\n",
    "isMan = False\n",
    "display(isMan)"
   ]
  }
 ],
 "metadata": {
  "kernelspec": {
   "display_name": "Python 3",
   "language": "python",
   "name": "python3"
  },
  "language_info": {
   "codemirror_mode": {
    "name": "ipython",
    "version": 3
   },
   "file_extension": ".py",
   "mimetype": "text/x-python",
   "name": "python",
   "nbconvert_exporter": "python",
   "pygments_lexer": "ipython3",
   "version": "3.10.12"
  },
  "orig_nbformat": 4
 },
 "nbformat": 4,
 "nbformat_minor": 2
}
