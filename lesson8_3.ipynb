{
 "cells": [
  {
   "cell_type": "code",
   "execution_count": 4,
   "metadata": {},
   "outputs": [
    {
     "data": {
      "text/plain": [
       "[78, 92, 85, 64, 92]"
      ]
     },
     "execution_count": 4,
     "metadata": {},
     "output_type": "execute_result"
    }
   ],
   "source": [
    "stu1 = [78,92,85,64,92]\n",
    "stu1"
   ]
  },
  {
   "cell_type": "code",
   "execution_count": 5,
   "metadata": {},
   "outputs": [
    {
     "data": {
      "text/plain": [
       "[78, 92, 85, 64, 92]"
      ]
     },
     "execution_count": 5,
     "metadata": {},
     "output_type": "execute_result"
    }
   ],
   "source": [
    "stu2 = []\n",
    "stu2.append(78)\n",
    "stu2.append(92)\n",
    "stu2.append(85)\n",
    "stu2.append(64)\n",
    "stu2.append(92)\n",
    "stu2"
   ]
  },
  {
   "cell_type": "code",
   "execution_count": 9,
   "metadata": {},
   "outputs": [
    {
     "data": {
      "text/plain": [
       "[79, 75, 85, 59, 62]"
      ]
     },
     "execution_count": 9,
     "metadata": {},
     "output_type": "execute_result"
    }
   ],
   "source": [
    "import random\n",
    "\n",
    "stu2 = []\n",
    "for _ in range(5):\n",
    "    stu2.append(random.randint(50,100))\n",
    "stu2"
   ]
  },
  {
   "cell_type": "code",
   "execution_count": 13,
   "metadata": {},
   "outputs": [
    {
     "data": {
      "text/plain": [
       "[95, 67, 78, 54, 68]"
      ]
     },
     "execution_count": 13,
     "metadata": {},
     "output_type": "execute_result"
    }
   ],
   "source": [
    "import random\n",
    "\n",
    "def generate_stu():\n",
    "    scores = []\n",
    "    for _ in range(5):\n",
    "        scores.append(random.randint(50,100))\n",
    "    return scores\n",
    "\n",
    "generate_stu()"
   ]
  },
  {
   "cell_type": "code",
   "execution_count": 14,
   "metadata": {},
   "outputs": [
    {
     "data": {
      "text/plain": [
       "[[51, 74, 88, 50, 68],\n",
       " [74, 54, 92, 100, 70],\n",
       " [56, 96, 88, 97, 58],\n",
       " [94, 61, 86, 66, 51],\n",
       " [95, 83, 50, 61, 66],\n",
       " [93, 100, 72, 96, 86],\n",
       " [73, 83, 87, 74, 88],\n",
       " [84, 84, 79, 58, 56],\n",
       " [87, 80, 57, 66, 62],\n",
       " [79, 88, 88, 87, 87],\n",
       " [55, 77, 95, 99, 51],\n",
       " [85, 84, 50, 52, 82],\n",
       " [93, 67, 83, 70, 50],\n",
       " [96, 95, 60, 63, 71],\n",
       " [96, 79, 79, 58, 95],\n",
       " [72, 76, 68, 72, 99],\n",
       " [74, 63, 60, 99, 91],\n",
       " [59, 70, 68, 54, 90],\n",
       " [98, 62, 58, 50, 94],\n",
       " [76, 83, 82, 83, 56],\n",
       " [83, 83, 52, 78, 52],\n",
       " [86, 50, 68, 94, 51],\n",
       " [61, 53, 85, 59, 84],\n",
       " [85, 99, 68, 60, 96],\n",
       " [57, 86, 68, 87, 82],\n",
       " [90, 52, 86, 75, 52],\n",
       " [75, 96, 90, 83, 87],\n",
       " [50, 95, 91, 54, 76],\n",
       " [66, 94, 89, 67, 99],\n",
       " [94, 100, 77, 68, 55],\n",
       " [93, 75, 89, 52, 53],\n",
       " [56, 83, 76, 80, 71],\n",
       " [59, 51, 58, 85, 80],\n",
       " [55, 60, 81, 78, 79],\n",
       " [66, 64, 79, 55, 71],\n",
       " [90, 80, 63, 54, 62],\n",
       " [99, 53, 56, 87, 60],\n",
       " [72, 60, 54, 73, 74],\n",
       " [76, 81, 53, 88, 76],\n",
       " [67, 57, 67, 88, 71],\n",
       " [94, 96, 88, 79, 71],\n",
       " [94, 99, 86, 68, 70],\n",
       " [79, 69, 80, 63, 62],\n",
       " [73, 94, 98, 62, 67],\n",
       " [63, 85, 50, 62, 76],\n",
       " [99, 61, 100, 90, 59],\n",
       " [61, 79, 96, 68, 66],\n",
       " [67, 89, 72, 95, 54],\n",
       " [56, 81, 99, 81, 74],\n",
       " [96, 82, 91, 95, 79]]"
      ]
     },
     "execution_count": 14,
     "metadata": {},
     "output_type": "execute_result"
    }
   ],
   "source": [
    "#建立50個學生\n",
    "students = []\n",
    "for _ in range(50):\n",
    "    scores = generate_stu()\n",
    "    students.append(scores)\n",
    "\n",
    "students"
   ]
  }
 ],
 "metadata": {
  "kernelspec": {
   "display_name": "Python 3",
   "language": "python",
   "name": "python3"
  },
  "language_info": {
   "codemirror_mode": {
    "name": "ipython",
    "version": 3
   },
   "file_extension": ".py",
   "mimetype": "text/x-python",
   "name": "python",
   "nbconvert_exporter": "python",
   "pygments_lexer": "ipython3",
   "version": "3.10.12"
  },
  "orig_nbformat": 4
 },
 "nbformat": 4,
 "nbformat_minor": 2
}
