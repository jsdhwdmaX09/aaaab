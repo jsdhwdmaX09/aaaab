{
 "cells": [
  {
   "cell_type": "code",
   "execution_count": 4,
   "metadata": {},
   "outputs": [
    {
     "data": {
      "text/plain": [
       "[78, 92, 85, 64, 92]"
      ]
     },
     "execution_count": 4,
     "metadata": {},
     "output_type": "execute_result"
    }
   ],
   "source": [
    "stu1 = [78,92,85,64,92]\n",
    "stu1"
   ]
  },
  {
   "cell_type": "code",
   "execution_count": 5,
   "metadata": {},
   "outputs": [
    {
     "data": {
      "text/plain": [
       "[78, 92, 85, 64, 92]"
      ]
     },
     "execution_count": 5,
     "metadata": {},
     "output_type": "execute_result"
    }
   ],
   "source": [
    "stu2 = []\n",
    "stu2.append(78)\n",
    "stu2.append(92)\n",
    "stu2.append(85)\n",
    "stu2.append(64)\n",
    "stu2.append(92)\n",
    "stu2"
   ]
  },
  {
   "cell_type": "code",
   "execution_count": 9,
   "metadata": {},
   "outputs": [
    {
     "data": {
      "text/plain": [
       "[79, 75, 85, 59, 62]"
      ]
     },
     "execution_count": 9,
     "metadata": {},
     "output_type": "execute_result"
    }
   ],
   "source": [
    "import random\n",
    "\n",
    "stu2 = []\n",
    "for _ in range(5):\n",
    "    stu2.append(random.randint(50,100))\n",
    "stu2"
   ]
  },
  {
   "cell_type": "code",
   "execution_count": 13,
   "metadata": {},
   "outputs": [
    {
     "data": {
      "text/plain": [
       "[95, 67, 78, 54, 68]"
      ]
     },
     "execution_count": 13,
     "metadata": {},
     "output_type": "execute_result"
    }
   ],
   "source": [
    "import random\n",
    "\n",
    "def generate_stu():\n",
    "    scores = []\n",
    "    for _ in range(5):\n",
    "        scores.append(random.randint(50,100))\n",
    "    return scores\n",
    "\n",
    "generate_stu()"
   ]
  },
  {
   "cell_type": "code",
   "execution_count": 14,
   "metadata": {},
   "outputs": [
    {
     "data": {
      "text/plain": [
       "[[51, 74, 88, 50, 68],\n",
       " [74, 54, 92, 100, 70],\n",
       " [56, 96, 88, 97, 58],\n",
       " [94, 61, 86, 66, 51],\n",
       " [95, 83, 50, 61, 66],\n",
       " [93, 100, 72, 96, 86],\n",
       " [73, 83, 87, 74, 88],\n",
       " [84, 84, 79, 58, 56],\n",
       " [87, 80, 57, 66, 62],\n",
       " [79, 88, 88, 87, 87],\n",
       " [55, 77, 95, 99, 51],\n",
       " [85, 84, 50, 52, 82],\n",
       " [93, 67, 83, 70, 50],\n",
       " [96, 95, 60, 63, 71],\n",
       " [96, 79, 79, 58, 95],\n",
       " [72, 76, 68, 72, 99],\n",
       " [74, 63, 60, 99, 91],\n",
       " [59, 70, 68, 54, 90],\n",
       " [98, 62, 58, 50, 94],\n",
       " [76, 83, 82, 83, 56],\n",
       " [83, 83, 52, 78, 52],\n",
       " [86, 50, 68, 94, 51],\n",
       " [61, 53, 85, 59, 84],\n",
       " [85, 99, 68, 60, 96],\n",
       " [57, 86, 68, 87, 82],\n",
       " [90, 52, 86, 75, 52],\n",
       " [75, 96, 90, 83, 87],\n",
       " [50, 95, 91, 54, 76],\n",
       " [66, 94, 89, 67, 99],\n",
       " [94, 100, 77, 68, 55],\n",
       " [93, 75, 89, 52, 53],\n",
       " [56, 83, 76, 80, 71],\n",
       " [59, 51, 58, 85, 80],\n",
       " [55, 60, 81, 78, 79],\n",
       " [66, 64, 79, 55, 71],\n",
       " [90, 80, 63, 54, 62],\n",
       " [99, 53, 56, 87, 60],\n",
       " [72, 60, 54, 73, 74],\n",
       " [76, 81, 53, 88, 76],\n",
       " [67, 57, 67, 88, 71],\n",
       " [94, 96, 88, 79, 71],\n",
       " [94, 99, 86, 68, 70],\n",
       " [79, 69, 80, 63, 62],\n",
       " [73, 94, 98, 62, 67],\n",
       " [63, 85, 50, 62, 76],\n",
       " [99, 61, 100, 90, 59],\n",
       " [61, 79, 96, 68, 66],\n",
       " [67, 89, 72, 95, 54],\n",
       " [56, 81, 99, 81, 74],\n",
       " [96, 82, 91, 95, 79]]"
      ]
     },
     "execution_count": 14,
     "metadata": {},
     "output_type": "execute_result"
    }
   ],
   "source": [
    "#建立50個學生\n",
    "students = []\n",
    "for _ in range(50):\n",
    "    scores = generate_stu()\n",
    "    students.append(scores)\n",
    "\n",
    "students"
   ]
  },
  {
   "cell_type": "code",
   "execution_count": 16,
   "metadata": {},
   "outputs": [
    {
     "name": "stdout",
     "output_type": "stream",
     "text": [
      "[[85, 84, 67, 90, 73], [69, 68, 85, 65, 58], [68, 87, 52, 85, 69], [82, 73, 73, 52, 50], [64, 66, 89, 99, 96], [59, 67, 71, 62, 78], [80, 98, 54, 75, 74], [65, 92, 60, 55, 71], [63, 63, 94, 64, 97], [89, 86, 74, 89, 62], [65, 74, 59, 71, 74], [94, 68, 83, 65, 61], [97, 77, 96, 54, 98], [82, 57, 72, 65, 60], [97, 97, 64, 53, 58]]\n"
     ]
    }
   ],
   "source": [
    "#建立50個學生\n",
    "try:\n",
    "    num = int(input('請輸入學生的人數:'))\n",
    "except:\n",
    "    print(\"格式錯誤\")\n",
    "else:\n",
    "    students = []\n",
    "    for _ in range(num):\n",
    "        scores = generate_stu()\n",
    "        students.append(scores)\n",
    "\n",
    "    print(students)"
   ]
  },
  {
   "cell_type": "code",
   "execution_count": 17,
   "metadata": {},
   "outputs": [
    {
     "name": "stdout",
     "output_type": "stream",
     "text": [
      "格式錯誤\n",
      "格式錯誤\n",
      "格式錯誤\n",
      "[[63, 81, 87, 72, 88], [81, 92, 63, 82, 99], [76, 60, 74, 84, 76], [59, 87, 87, 77, 78], [65, 75, 94, 80, 78], [87, 71, 98, 56, 59], [60, 92, 86, 67, 71], [91, 54, 98, 98, 68], [54, 90, 61, 85, 86], [69, 69, 56, 82, 100]]\n"
     ]
    }
   ],
   "source": [
    "#建立50個學生\n",
    "while True:\n",
    "    try:\n",
    "        num = int(input('請輸入學生的人數:'))\n",
    "    except:\n",
    "        print(\"格式錯誤\")\n",
    "    else:\n",
    "        students = []\n",
    "        for _ in range(num):\n",
    "            scores = generate_stu()\n",
    "            students.append(scores)\n",
    "\n",
    "        print(students)\n",
    "        break"
   ]
  },
  {
   "cell_type": "code",
   "execution_count": 18,
   "metadata": {},
   "outputs": [
    {
     "name": "stdout",
     "output_type": "stream",
     "text": [
      "[[56, 86, 53, 97, 91], [60, 93, 53, 76, 68], [65, 89, 59, 76, 90], [72, 88, 58, 67, 76], [79, 95, 59, 64, 60], [88, 65, 93, 59, 84], [96, 58, 66, 93, 64], [77, 92, 94, 89, 75], [55, 60, 98, 70, 77], [98, 71, 80, 58, 60]]\n"
     ]
    }
   ],
   "source": [
    "#建立50個學生\n",
    "while True:\n",
    "    try:\n",
    "        num = int(input('請輸入學生的人數:'))\n",
    "    except:\n",
    "        print(\"格式錯誤\")\n",
    "    else:\n",
    "        if not (num >= 5 and num <=50):\n",
    "            continue\n",
    "        \n",
    "        students = []\n",
    "        for _ in range(num):\n",
    "            scores = generate_stu()\n",
    "            students.append(scores)\n",
    "\n",
    "        print(students)\n",
    "        break"
   ]
  },
  {
   "cell_type": "code",
   "execution_count": 22,
   "metadata": {},
   "outputs": [
    {
     "name": "stdout",
     "output_type": "stream",
     "text": [
      "請輸入學生的人數:'15a' is not an integer.\n",
      "請輸入學生的人數:'15.5' is not an integer.\n",
      "請輸入學生的人數:"
     ]
    },
    {
     "data": {
      "text/plain": [
       "15"
      ]
     },
     "execution_count": 22,
     "metadata": {},
     "output_type": "execute_result"
    }
   ],
   "source": [
    "import pyinputplus as pyip\n",
    "\n",
    "num = pyip.inputInt('請輸入學生的人數:')\n",
    "num"
   ]
  },
  {
   "cell_type": "code",
   "execution_count": 21,
   "metadata": {},
   "outputs": [
    {
     "name": "stdout",
     "output_type": "stream",
     "text": [
      "請輸入學生的人數:'15a' is not an integer.\n",
      "請輸入學生的人數:'14.5' is not an integer.\n",
      "請輸入學生的人數:"
     ]
    },
    {
     "data": {
      "text/plain": [
       "[[100, 87, 63, 79, 67],\n",
       " [85, 95, 78, 59, 58],\n",
       " [72, 83, 55, 76, 63],\n",
       " [64, 77, 80, 61, 73],\n",
       " [93, 78, 54, 55, 60],\n",
       " [71, 87, 71, 71, 76],\n",
       " [90, 96, 94, 63, 53],\n",
       " [75, 80, 75, 63, 91],\n",
       " [78, 67, 56, 71, 75],\n",
       " [76, 57, 100, 88, 88],\n",
       " [93, 64, 69, 91, 59],\n",
       " [80, 68, 60, 67, 66],\n",
       " [74, 80, 61, 97, 87],\n",
       " [87, 57, 58, 65, 74],\n",
       " [94, 50, 71, 73, 60]]"
      ]
     },
     "execution_count": 21,
     "metadata": {},
     "output_type": "execute_result"
    }
   ],
   "source": [
    "import pyinputplus as pyip\n",
    "\n",
    "num = pyip.inputInt('請輸入學生的人數:')\n",
    "students = []\n",
    "for _ in range(num):\n",
    "    scores = generate_stu()\n",
    "    students.append(scores)\n",
    "\n",
    "students"
   ]
  },
  {
   "cell_type": "code",
   "execution_count": 24,
   "metadata": {},
   "outputs": [
    {
     "name": "stdout",
     "output_type": "stream",
     "text": [
      "請輸入學生的人數:Number must be at maximum 50.\n",
      "請輸入學生的人數:Number must be at minimum 5.\n",
      "請輸入學生的人數:"
     ]
    },
    {
     "data": {
      "text/plain": [
       "[[84, 58, 55, 77, 95],\n",
       " [81, 84, 74, 85, 80],\n",
       " [55, 100, 64, 54, 70],\n",
       " [59, 59, 60, 98, 78],\n",
       " [88, 97, 97, 80, 54],\n",
       " [60, 86, 86, 100, 84],\n",
       " [79, 53, 75, 74, 84],\n",
       " [53, 55, 76, 93, 81],\n",
       " [80, 89, 82, 52, 90],\n",
       " [50, 89, 61, 67, 73]]"
      ]
     },
     "execution_count": 24,
     "metadata": {},
     "output_type": "execute_result"
    }
   ],
   "source": [
    "import pyinputplus as pyip\n",
    "\n",
    "num = pyip.inputInt('請輸入學生的人數:',min=5,max=50)\n",
    "students = []\n",
    "for _ in range(num):\n",
    "    scores = generate_stu()\n",
    "    students.append(scores)\n",
    "\n",
    "students"
   ]
  }
 ],
 "metadata": {
  "kernelspec": {
   "display_name": "Python 3",
   "language": "python",
   "name": "python3"
  },
  "language_info": {
   "codemirror_mode": {
    "name": "ipython",
    "version": 3
   },
   "file_extension": ".py",
   "mimetype": "text/x-python",
   "name": "python",
   "nbconvert_exporter": "python",
   "pygments_lexer": "ipython3",
   "version": "3.10.12"
  },
  "orig_nbformat": 4
 },
 "nbformat": 4,
 "nbformat_minor": 2
}
