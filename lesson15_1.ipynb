{
 "cells": [
  {
   "cell_type": "code",
   "execution_count": 2,
   "metadata": {},
   "outputs": [
    {
     "data": {
      "image/png": "[encoded data removed]",
      "text/plain": [
       "<Figure size 800x500 with 1 Axes>"
      ]
     },
     "metadata": {},
     "output_type": "display_data"
    }
   ],
   "source": [
    "import matplotlib.pyplot as plt\n",
    "index = [3, 4, 5, 6, 7]\n",
    "subject = ['apple', 'banana', 'orange', 'tomato', 'guava']\n",
    "value1 = [5000, 6000, 7000, 8000, 9000]\n",
    "value2 = [3000, 4000, 5000, 6000, 7000]\n",
    "value3 = [4000, 5000, 6000, 7000, 8000]\n",
    "\n",
    "figure = plt.figure(figsize=(8,5))\n",
    "axes = figure.add_subplot(1,1,1)\n",
    "bin_width=0.3\n",
    "axes.bar(index, value1,width=bin_width,color='red')\n",
    "plt.show()\n"
   ]
  },
  {
   "cell_type": "code",
   "execution_count": 5,
   "metadata": {},
   "outputs": [
    {
     "data": {
      "image/png": "[encoded data removed]",
      "text/plain": [
       "<Figure size 800x500 with 1 Axes>"
      ]
     },
     "metadata": {},
     "output_type": "display_data"
    }
   ],
   "source": [
    "import matplotlib.pyplot as plt\n",
    "index = [3, 4, 5, 6, 7]\n",
    "index1 = [2.7, 3.7, 4.7, 5.7, 6.7]\n",
    "index2 = [3.3, 4.3, 5.3, 6.3, 7.3]\n",
    "subject = ['apple', 'banana', 'orange', 'tomato', 'guava']\n",
    "value1 = [5000, 6000, 7000, 8000, 9000]\n",
    "value2 = [3000, 4000, 5000, 6000, 7000]\n",
    "value3 = [4000, 5000, 6000, 7000, 8000]\n",
    "\n",
    "figure = plt.figure(figsize=(8,5))\n",
    "axes = figure.add_subplot(1,1,1)\n",
    "bin_width=0.3\n",
    "axes.bar(index, value1,width=bin_width,color='red')\n",
    "axes.bar(index1, value2,width=bin_width,color='blue')\n",
    "axes.bar(index2, value3,width=bin_width,color='green')\n",
    "plt.show()"
   ]
  },
  {
   "cell_type": "code",
   "execution_count": 6,
   "metadata": {},
   "outputs": [
    {
     "ename": "TypeError",
     "evalue": "unsupported operand type(s) for -: 'list' and 'float'",
     "output_type": "error",
     "traceback": [
      "\u001b[0;31m---------------------------------------------------------------------------\u001b[0m",
      "\u001b[0;31mTypeError\u001b[0m                                 Traceback (most recent call last)",
      "\u001b[1;32m/workspaces/aaaab/lesson15_1.ipynb 儲存格 3\u001b[0m line \u001b[0;36m2\n\u001b[1;32m      <a href='vscode-notebook-cell://codespaces%2Bscaling-space-waffle-v6vw9rvrrvqr3w9pw/workspaces/aaaab/lesson15_1.ipynb#W3sdnNjb2RlLXJlbW90ZQ%3D%3D?line=0'>1</a>\u001b[0m index \u001b[39m=\u001b[39m [\u001b[39m3\u001b[39m, \u001b[39m4\u001b[39m, \u001b[39m5\u001b[39m, \u001b[39m6\u001b[39m, \u001b[39m7\u001b[39m]\n\u001b[0;32m----> <a href='vscode-notebook-cell://codespaces%2Bscaling-space-waffle-v6vw9rvrrvqr3w9pw/workspaces/aaaab/lesson15_1.ipynb#W3sdnNjb2RlLXJlbW90ZQ%3D%3D?line=1'>2</a>\u001b[0m index \u001b[39m-\u001b[39;49m \u001b[39m0.3\u001b[39;49m\n",
      "\u001b[0;31mTypeError\u001b[0m: unsupported operand type(s) for -: 'list' and 'float'"
     ]
    }
   ],
   "source": [
    "index = [3, 4, 5, 6, 7]\n",
    "index - 0.3"
   ]
  },
  {
   "cell_type": "code",
   "execution_count": 9,
   "metadata": {},
   "outputs": [
    {
     "data": {
      "text/plain": [
       "array([3, 4, 5, 6, 7])"
      ]
     },
     "execution_count": 9,
     "metadata": {},
     "output_type": "execute_result"
    }
   ],
   "source": [
    "import numpy as np\n",
    "index = [3, 4, 5, 6, 7]\n",
    "index_array = np.array(index)\n",
    "index_array"
   ]
  },
  {
   "cell_type": "code",
   "execution_count": 10,
   "metadata": {},
   "outputs": [
    {
     "data": {
      "text/plain": [
       "array([2.7, 3.7, 4.7, 5.7, 6.7])"
      ]
     },
     "execution_count": 10,
     "metadata": {},
     "output_type": "execute_result"
    }
   ],
   "source": [
    "import numpy as np\n",
    "index = [3, 4, 5, 6, 7]\n",
    "index_array = np.array(index)\n",
    "index_array - 0.3"
   ]
  },
  {
   "cell_type": "code",
   "execution_count": 12,
   "metadata": {},
   "outputs": [
    {
     "data": {
      "image/png": "[encoded data removed]",
      "text/plain": [
       "<Figure size 800x500 with 1 Axes>"
      ]
     },
     "metadata": {},
     "output_type": "display_data"
    }
   ],
   "source": [
    "import matplotlib.pyplot as plt\n",
    "import numpy as np\n",
    "index = np.array([3, 4, 5, 6, 7])\n",
    "subject = ['apple', 'banana', 'orange', 'tomato', 'guava']\n",
    "value1 = [5000, 6000, 7000, 8000, 9000]\n",
    "value2 = [3000, 4000, 5000, 6000, 7000]\n",
    "value3 = [4000, 5000, 6000, 7000, 8000]\n",
    "\n",
    "figure = plt.figure(figsize=(8,5))\n",
    "axes = figure.add_subplot(1,1,1)\n",
    "bin_width=0.3\n",
    "axes.bar(index, value1,width=bin_width,color='red')\n",
    "axes.bar(index1, value2,width=bin_width,color='blue')\n",
    "axes.bar(index2, value3,width=bin_width,color='green')\n",
    "plt.show()"
   ]
  },
  {
   "cell_type": "code",
   "execution_count": null,
   "metadata": {},
   "outputs": [],
   "source": [
    "import matplotlib.pyplot as plt\n",
    "import numpy as np\n",
    "index = np.array([3, 4, 5, 6, 7])\n",
    "subject = ['apple', 'banana', 'orange', 'tomato', 'guava']\n",
    "value1 = [5000, 6000, 7000, 8000, 9000]\n",
    "value2 = [3000, 4000, 5000, 6000, 7000]\n",
    "value3 = [4000, 5000, 6000, 7000, 8000]\n",
    "\n",
    "figure = plt.figure(figsize=(8,5))\n",
    "axes = figure.add_subplot(1,1,1)\n",
    "bin_width=0.3\n",
    "axes.bar(index, value1,width=bin_width,color='red')\n",
    "axes.bar(index1, value2,width=bin_width,color='blue')\n",
    "axes.bar(index2, value3,width=bin_width,color='green')\n",
    "plt.show()"
   ]
  }
 ],
 "metadata": {
  "kernelspec": {
   "display_name": "Python 3",
   "language": "python",
   "name": "python3"
  },
  "language_info": {
   "codemirror_mode": {
    "name": "ipython",
    "version": 3
   },
   "file_extension": ".py",
   "mimetype": "text/x-python",
   "name": "python",
   "nbconvert_exporter": "python",
   "pygments_lexer": "ipython3",
   "version": "3.10.12"
  },
  "orig_nbformat": 4
 },
 "nbformat": 4,
 "nbformat_minor": 2
}
