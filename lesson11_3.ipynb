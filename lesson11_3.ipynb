{
 "cells": [
  {
   "cell_type": "code",
   "execution_count": 19,
   "metadata": {},
   "outputs": [],
   "source": [
    "class Student:\n",
    "    def __init__(self,name:str,ch:int,eng:int,math:int,geo:int,his:int):\n",
    "        self.姓名 = name\n",
    "        self.國文 = ch\n",
    "        self.英文 = eng\n",
    "        self.數學 = math\n",
    "        self.地理 = geo\n",
    "        self.歷史 = his"
   ]
  },
  {
   "cell_type": "code",
   "execution_count": 20,
   "metadata": {},
   "outputs": [
    {
     "data": {
      "text/plain": [
       "[<__main__.Student at 0x7fd54e462ef0>,\n",
       " <__main__.Student at 0x7fd54e479240>,\n",
       " <__main__.Student at 0x7fd54e5d4c10>,\n",
       " <__main__.Student at 0x7fd54e5af790>,\n",
       " <__main__.Student at 0x7fd54e5af040>,\n",
       " <__main__.Student at 0x7fd54e5ac2b0>,\n",
       " <__main__.Student at 0x7fd54e5948b0>,\n",
       " <__main__.Student at 0x7fd54e595810>,\n",
       " <__main__.Student at 0x7fd54e596a10>,\n",
       " <__main__.Student at 0x7fd54e563f70>,\n",
       " <__main__.Student at 0x7fd54e563a90>,\n",
       " <__main__.Student at 0x7fd54e729540>,\n",
       " <__main__.Student at 0x7fd54e729de0>,\n",
       " <__main__.Student at 0x7fd54e729960>,\n",
       " <__main__.Student at 0x7fd54e72bcd0>,\n",
       " <__main__.Student at 0x7fd54e729ff0>,\n",
       " <__main__.Student at 0x7fd54e72b3a0>,\n",
       " <__main__.Student at 0x7fd54e72bfd0>,\n",
       " <__main__.Student at 0x7fd54e729c00>,\n",
       " <__main__.Student at 0x7fd54e7293c0>,\n",
       " <__main__.Student at 0x7fd54e7296c0>,\n",
       " <__main__.Student at 0x7fd54e72b8b0>,\n",
       " <__main__.Student at 0x7fd54e72bb50>,\n",
       " <__main__.Student at 0x7fd54e729e40>,\n",
       " <__main__.Student at 0x7fd54e72a110>,\n",
       " <__main__.Student at 0x7fd54e729420>,\n",
       " <__main__.Student at 0x7fd54e729240>,\n",
       " <__main__.Student at 0x7fd54e729570>,\n",
       " <__main__.Student at 0x7fd54e72a050>,\n",
       " <__main__.Student at 0x7fd54e72ba60>,\n",
       " <__main__.Student at 0x7fd54e72b790>,\n",
       " <__main__.Student at 0x7fd54e7294b0>,\n",
       " <__main__.Student at 0x7fd54e72bf40>,\n",
       " <__main__.Student at 0x7fd54e72b7c0>,\n",
       " <__main__.Student at 0x7fd54e729840>,\n",
       " <__main__.Student at 0x7fd54e7298a0>,\n",
       " <__main__.Student at 0x7fd54e72bd00>,\n",
       " <__main__.Student at 0x7fd54e61c4f0>,\n",
       " <__main__.Student at 0x7fd54e61c0d0>,\n",
       " <__main__.Student at 0x7fd54e61d000>,\n",
       " <__main__.Student at 0x7fd54e61ce50>,\n",
       " <__main__.Student at 0x7fd54e61c5e0>,\n",
       " <__main__.Student at 0x7fd54e61d420>,\n",
       " <__main__.Student at 0x7fd54e61cdc0>,\n",
       " <__main__.Student at 0x7fd54e61d540>,\n",
       " <__main__.Student at 0x7fd54e61c190>,\n",
       " <__main__.Student at 0x7fd54e61c580>,\n",
       " <__main__.Student at 0x7fd54e61cd30>,\n",
       " <__main__.Student at 0x7fd54e61d930>,\n",
       " <__main__.Student at 0x7fd54e61c970>]"
      ]
     },
     "execution_count": 20,
     "metadata": {},
     "output_type": "execute_result"
    }
   ],
   "source": [
    "import csv\n",
    "with open(\"學生成績表1.csv\",encoding=\"utf-8\",newline='') as file:\n",
    "    dict_reader = csv.DictReader(file)\n",
    "    students = []\n",
    "    for student in dict_reader:\n",
    "        Chinese = int(student['國文'])\n",
    "        English = int(student['英文'])\n",
    "        Math = int(student['數學'])\n",
    "        Geographic = int(student['地理'])\n",
    "        History = int(student['歷史'])\n",
    "        student = Student(student['姓名'],\n",
    "                ch = Chinese,\n",
    "                eng = English,\n",
    "                math = Math,\n",
    "                geo = Geographic,\n",
    "                his = History)\n",
    "        students.append(student)\n",
    "\n",
    "students"
   ]
  },
  {
   "cell_type": "code",
   "execution_count": 39,
   "metadata": {},
   "outputs": [],
   "source": [
    "class Student:\n",
    "    def __init__(self,name:str,ch:int,eng:int,math:int,geo:int,his:int):\n",
    "        #attribute\n",
    "        self.姓名 = name\n",
    "        self.國文 = ch\n",
    "        self.英文 = eng\n",
    "        self.數學 = math\n",
    "        self.地理 = geo\n",
    "        self.歷史 = his\n",
    "\n",
    "    def __repr__(self) -> str:\n",
    "        return f'{self.姓名}的實體'\n",
    "    \n",
    "#實體方法\n",
    "def sum(self) -> int:\n",
    "    return self.國文 + self.英文 + self.數學 + self.地理 + self.歷史\n",
    "\n",
    "#實體方法\n",
    "def average(self) -> float:\n",
    "    return round(self.sum/5,ndigits=2)"
   ]
  },
  {
   "cell_type": "code",
   "execution_count": 40,
   "metadata": {},
   "outputs": [
    {
     "data": {
      "text/plain": [
       "[葉志峰的實體,\n",
       " 彭茹靖的實體,\n",
       " 吳志宣的實體,\n",
       " 黃詩妃的實體,\n",
       " 陳向愛的實體,\n",
       " 張凱妮的實體,\n",
       " 張嘉韋的實體,\n",
       " 黃嘉琪的實體,\n",
       " 郭淑真的實體,\n",
       " 林佳光的實體,\n",
       " 高智超的實體,\n",
       " 張牧聿的實體,\n",
       " 溫重意的實體,\n",
       " 馬彥文的實體,\n",
       " 黃健發的實體,\n",
       " 陳淑娟的實體,\n",
       " 謝貞妃的實體,\n",
       " 李慶亮的實體,\n",
       " 吳淑惠的實體,\n",
       " 楊綺芬的實體,\n",
       " 張俊傑的實體,\n",
       " 林珍旺的實體,\n",
       " 郎慧萍的實體,\n",
       " 趙偉銘的實體,\n",
       " 游倫城的實體,\n",
       " 吳麗卿的實體,\n",
       " 艾巧夫的實體,\n",
       " 王泓泰的實體,\n",
       " 鄭奇翰的實體,\n",
       " 戴萱能的實體,\n",
       " 程玫靖的實體,\n",
       " 謝哲維的實體,\n",
       " 張伊映的實體,\n",
       " 吳欣書的實體,\n",
       " 藍哲嘉的實體,\n",
       " 林向鈺的實體,\n",
       " 陳淑娟的實體,\n",
       " 王雅慧的實體,\n",
       " 劉嘉泰的實體,\n",
       " 陳倩妮的實體,\n",
       " 藍哲嘉的實體,\n",
       " 呂傑宣的實體,\n",
       " 鍾俞禎的實體,\n",
       " 溫重意的實體,\n",
       " 鄭奇翰的實體,\n",
       " 魏秋萍的實體,\n",
       " 魏秋萍的實體,\n",
       " 李政成的實體,\n",
       " 張明惟的實體,\n",
       " 王雅慧的實體]"
      ]
     },
     "execution_count": 40,
     "metadata": {},
     "output_type": "execute_result"
    }
   ],
   "source": [
    "import csv\n",
    "with open(\"學生成績表1.csv\",encoding=\"utf-8\",newline='') as file:\n",
    "    dict_reader = csv.DictReader(file)\n",
    "    students = []\n",
    "    for student in dict_reader:\n",
    "        Chinese = int(student['國文'])\n",
    "        English = int(student['英文'])\n",
    "        Math = int(student['數學'])\n",
    "        Geographic = int(student['地理'])\n",
    "        History = int(student['歷史'])\n",
    "        student = Student(student['姓名'],\n",
    "                ch = Chinese,\n",
    "                eng = English,\n",
    "                math = Math,\n",
    "                geo = Geographic,\n",
    "                his = History)\n",
    "        students.append(student)\n",
    "\n",
    "students"
   ]
  },
  {
   "cell_type": "code",
   "execution_count": 41,
   "metadata": {},
   "outputs": [
    {
     "name": "stdout",
     "output_type": "stream",
     "text": [
      "葉志峰\n"
     ]
    },
    {
     "ename": "AttributeError",
     "evalue": "'Student' object has no attribute 'sum'",
     "output_type": "error",
     "traceback": [
      "\u001b[0;31m---------------------------------------------------------------------------\u001b[0m",
      "\u001b[0;31mAttributeError\u001b[0m                            Traceback (most recent call last)",
      "\u001b[1;32m/workspaces/aaaab/lesson11_3.ipynb 儲存格 5\u001b[0m line \u001b[0;36m3\n\u001b[1;32m      <a href='vscode-notebook-cell://codespaces%2Bscaling-space-waffle-v6vw9rvrrvqr3w9pw/workspaces/aaaab/lesson11_3.ipynb#W6sdnNjb2RlLXJlbW90ZQ%3D%3D?line=0'>1</a>\u001b[0m \u001b[39mfor\u001b[39;00m stu \u001b[39min\u001b[39;00m students:\n\u001b[1;32m      <a href='vscode-notebook-cell://codespaces%2Bscaling-space-waffle-v6vw9rvrrvqr3w9pw/workspaces/aaaab/lesson11_3.ipynb#W6sdnNjb2RlLXJlbW90ZQ%3D%3D?line=1'>2</a>\u001b[0m     \u001b[39mprint\u001b[39m(stu\u001b[39m.\u001b[39m姓名)\n\u001b[0;32m----> <a href='vscode-notebook-cell://codespaces%2Bscaling-space-waffle-v6vw9rvrrvqr3w9pw/workspaces/aaaab/lesson11_3.ipynb#W6sdnNjb2RlLXJlbW90ZQ%3D%3D?line=2'>3</a>\u001b[0m     \u001b[39mprint\u001b[39m(\u001b[39mf\u001b[39m\u001b[39m'\u001b[39m\u001b[39m總分:\u001b[39m\u001b[39m{\u001b[39;00mstu\u001b[39m.\u001b[39;49msum()\u001b[39m}\u001b[39;00m\u001b[39m'\u001b[39m)\n\u001b[1;32m      <a href='vscode-notebook-cell://codespaces%2Bscaling-space-waffle-v6vw9rvrrvqr3w9pw/workspaces/aaaab/lesson11_3.ipynb#W6sdnNjb2RlLXJlbW90ZQ%3D%3D?line=3'>4</a>\u001b[0m     \u001b[39mprint\u001b[39m(\u001b[39mf\u001b[39m\u001b[39m'\u001b[39m\u001b[39m平均:\u001b[39m\u001b[39m{\u001b[39;00mstu\u001b[39m.\u001b[39maverage()\u001b[39m}\u001b[39;00m\u001b[39m'\u001b[39m)\n\u001b[1;32m      <a href='vscode-notebook-cell://codespaces%2Bscaling-space-waffle-v6vw9rvrrvqr3w9pw/workspaces/aaaab/lesson11_3.ipynb#W6sdnNjb2RlLXJlbW90ZQ%3D%3D?line=4'>5</a>\u001b[0m     \u001b[39mprint\u001b[39m(\u001b[39m\"\u001b[39m\u001b[39m==========\u001b[39m\u001b[39m\"\u001b[39m)\n",
      "\u001b[0;31mAttributeError\u001b[0m: 'Student' object has no attribute 'sum'"
     ]
    }
   ],
   "source": [
    "for stu in students:\n",
    "    print(stu.姓名)\n",
    "    print(f'總分:{stu.sum()}')\n",
    "    print(f'平均:{stu.average()}')\n",
    "    print(\"==========\")"
   ]
  }
 ],
 "metadata": {
  "kernelspec": {
   "display_name": "Python 3",
   "language": "python",
   "name": "python3"
  },
  "language_info": {
   "codemirror_mode": {
    "name": "ipython",
    "version": 3
   },
   "file_extension": ".py",
   "mimetype": "text/x-python",
   "name": "python",
   "nbconvert_exporter": "python",
   "pygments_lexer": "ipython3",
   "version": "3.10.12"
  },
  "orig_nbformat": 4
 },
 "nbformat": 4,
 "nbformat_minor": 2
}
