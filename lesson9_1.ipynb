{
 "cells": [
  {
   "cell_type": "code",
   "execution_count": 2,
   "metadata": {},
   "outputs": [],
   "source": [
    "import random\n",
    "\n",
    "def generate_stu():\n",
    "    scores = []\n",
    "    for _ in range(5):\n",
    "        scores.append(random.randint(50,100))\n",
    "    return scores"
   ]
  },
  {
   "cell_type": "code",
   "execution_count": 4,
   "metadata": {},
   "outputs": [
    {
     "name": "stdout",
     "output_type": "stream",
     "text": [
      "請輸入學生的人數:"
     ]
    },
    {
     "data": {
      "text/plain": [
       "[[53, 73, 90, 69, 97],\n",
       " [87, 95, 89, 65, 63],\n",
       " [56, 87, 69, 100, 50],\n",
       " [81, 94, 67, 52, 61],\n",
       " [98, 92, 65, 80, 66],\n",
       " [72, 86, 57, 58, 94],\n",
       " [54, 100, 50, 71, 72],\n",
       " [55, 78, 93, 72, 71],\n",
       " [64, 80, 73, 64, 86],\n",
       " [88, 70, 68, 59, 64]]"
      ]
     },
     "execution_count": 4,
     "metadata": {},
     "output_type": "execute_result"
    }
   ],
   "source": [
    "import pyinputplus as pyip\n",
    "\n",
    "num = pyip.inputInt('請輸入學生的人數:')\n",
    "students = []\n",
    "for _ in range(num):\n",
    "    scores = generate_stu()\n",
    "    students.append(scores)\n",
    "\n",
    "students"
   ]
  },
  {
   "cell_type": "code",
   "execution_count": 5,
   "metadata": {},
   "outputs": [],
   "source": [
    "import random\n",
    "import pyinputplus as pyip\n",
    "\n",
    "def generate_stu():\n",
    "    scores = []\n",
    "    for _ in range(5):\n",
    "        scores.append(random.randint(50,100))\n",
    "    return scores\n",
    "\n",
    "def getNames(num:int) -> list[str]:\n",
    "    with open(\"names.txt\",encoding=\"utf_8\") as file:\n",
    "        names = []\n",
    "        for name in file:\n",
    "             names.append(name.rstrip())\n",
    "    return random.choices(names,k=num) "
   ]
  },
  {
   "cell_type": "code",
   "execution_count": 6,
   "metadata": {},
   "outputs": [
    {
     "name": "stdout",
     "output_type": "stream",
     "text": [
      "請輸入學生的人數:10\n"
     ]
    },
    {
     "data": {
      "text/plain": [
       "[['黃嘉琪', 68, 52, 60, 74, 89],\n",
       " ['林佳人', 55, 97, 99, 70, 52],\n",
       " ['張慧君', 95, 53, 63, 98, 93],\n",
       " ['賴苑禾', 71, 84, 51, 77, 50],\n",
       " ['游一鈺', 71, 98, 57, 63, 66],\n",
       " ['林益妏', 68, 70, 96, 72, 55],\n",
       " ['黃志福', 58, 62, 61, 94, 59],\n",
       " ['胡淑貞', 84, 72, 76, 96, 87],\n",
       " ['周怡啟', 96, 59, 99, 85, 65],\n",
       " ['黃嘉琪', 53, 93, 96, 75, 58]]"
      ]
     },
     "execution_count": 6,
     "metadata": {},
     "output_type": "execute_result"
    }
   ],
   "source": [
    "import pyinputplus as pyip\n",
    "\n",
    "num = pyip.inputInt('請輸入學生的人數:')\n",
    "print(num)\n",
    "names = getNames(num=num) #建立學生姓名的list\n",
    "students = []\n",
    "for i in range(num):\n",
    "    scores = generate_stu() #建立學生的5個分數\n",
    "    scores.insert(0,names[i]) #將學生姓名加入至list內\n",
    "    students.append(scores)\n",
    "\n",
    "students"
   ]
  },
  {
   "cell_type": "code",
   "execution_count": 8,
   "metadata": {},
   "outputs": [],
   "source": [
    "with open(\"學生成績.csv\",mode='w',encoding= 'utf-8',newline='') as file:\n",
    "    pass"
   ]
  },
  {
   "cell_type": "code",
   "execution_count": 9,
   "metadata": {},
   "outputs": [
    {
     "name": "stdout",
     "output_type": "stream",
     "text": [
      "存檔成功\n"
     ]
    }
   ],
   "source": [
    "import csv\n",
    "with open(\"學生成績.csv\",mode='w',encoding= 'utf-8',newline='') as file:\n",
    "    csv_writer = csv.writer(file)\n",
    "    csv_writer.writerows(students)\n",
    "print(\"存檔成功\")"
   ]
  },
  {
   "cell_type": "code",
   "execution_count": 10,
   "metadata": {},
   "outputs": [],
   "source": [
    "def save_csv_file(filename:str,data:bool) -> None:\n",
    "    try:\n",
    "        with open(\"學生成績.csv\",mode='w',encoding= 'utf-8',newline='') as file:\n",
    "            csv_writer = csv.writer(file)\n",
    "            csv_writer.writerows(students)\n",
    "    except:\n",
    "        return False\n",
    "    else:\n",
    "        return True"
   ]
  },
  {
   "cell_type": "code",
   "execution_count": 11,
   "metadata": {},
   "outputs": [],
   "source": [
    "def save_csv_file(filename:str,data:bool) -> None:\n",
    "    try:\n",
    "        with open(filename,mode='w',encoding= 'utf-8',newline='') as file:\n",
    "            csv_writer = csv.writer(file)\n",
    "            csv_writer.writerows(data)\n",
    "    except:\n",
    "        return False\n",
    "    else:\n",
    "        return True"
   ]
  },
  {
   "cell_type": "code",
   "execution_count": 13,
   "metadata": {},
   "outputs": [
    {
     "name": "stdout",
     "output_type": "stream",
     "text": [
      "存檔成功\n"
     ]
    }
   ],
   "source": [
    "if save_csv_file(filename=\"學生成績1.csv\",data=students):\n",
    "    print(\"存檔成功\")\n",
    "else:\n",
    "    print(\"存檔失敗\")"
   ]
  }
 ],
 "metadata": {
  "kernelspec": {
   "display_name": "Python 3",
   "language": "python",
   "name": "python3"
  },
  "language_info": {
   "codemirror_mode": {
    "name": "ipython",
    "version": 3
   },
   "file_extension": ".py",
   "mimetype": "text/x-python",
   "name": "python",
   "nbconvert_exporter": "python",
   "pygments_lexer": "ipython3",
   "version": "3.10.12"
  },
  "orig_nbformat": 4
 },
 "nbformat": 4,
 "nbformat_minor": 2
}
